{
 "cells": [
  {
   "cell_type": "markdown",
   "metadata": {},
   "source": [
    "# APPROACH DOCUMENT"
   ]
  },
  {
   "cell_type": "markdown",
   "metadata": {},
   "source": [
    "**PROBLEM UNDERSTANDING**\n",
    "<p>Data Challenge\n",
    "QuadPay is a payment gateway that lets consumers split purchases into 4 interest free\n",
    "installments, every two weeks. The first 25% is taken when the order is received, and the\n",
    "remaining 3 installments of 25% are automatically taken every 14 days. We help customers\n",
    "manage their cash-flow and we help merchants increase conversion rates and average order\n",
    "values.\n",
    "This assignment is designed to help you become familiar with our problem domain and start to\n",
    "think about which scenarios we should anticipate going forward. It gives us an opportunity to\n",
    "evaluate how you approach complex problems.<p>\n",
    "    \n",
    "**QUESTIONS TO ANSWER**\n",
    "<p>\n",
    "<b>1.Which features show strong correlation with a customer’s likelihood of paying back\n",
    "    installments?</b><br>\n",
    "    \n",
    "    Customer Credit Score was strongly correlated<br>\n",
    "<b>2.Which features should be discarded? Why?</b><br>\n",
    "    \n",
    "    Paid for installments1\n",
    "    Approved for installments\n",
    "    Shipping zip, Checkout\n",
    "    \n",
    "<b>3.What surprised you about the results/trends observed in the data?<br><p></b>\n",
    "    \n",
    "    Certain customers have defaulted 10/10 times. I was hoping The defaulters age to be much younger than average non \n",
    "    defauletrs age but the difference is pretty less. The zip code was a pleasant surprise<br>\n",
    "<b>4. What additional data would you like to see that might help build a better installment-<br>\n",
    "    approval classifier?<br><p></b>\n",
    "    \n",
    "    Customer demographics, Net Worth, Salary, Employment Type(Govt, selfemployed, pvt),WorkingSector, external \n",
    "    credit,Past transactional data,family_income\n",
    "<b>5. What would be your next steps to train/build a model that we could use to make real time<br>\n",
    "    customer approval decisions?<br><p></b>\n",
    "    \n",
    "    After getting more data with more essential features, i will clean my data further by some outlier removals to make my data more robust.\n",
    "    I will try and create a model with better recall and low errors by hyperparameter tuning and feature engineering.\n",
    "    In the end i will keep a threshold below which a request is accepted and above which it will involve manual intervention/would not approve the request.\n",
    "    \n",
    "    2 applications would be created, \n",
    "    First one to create the data in the exact format the predictive model would need.\n",
    "    Second would be the predictive model which would return the score/result.\n",
    "    \n",
    "    FLOWCHART\n",
    "    Frontend-->button(trigger)->messaging-queue(eg.kafka)--(from 1 application to other)-app1(create_data)--app2(predictive_model)--decision--manual_intervention(if-needed)-->live_database for newdata-->cron(timer_model_run) to retrain the model"
   ]
  },
  {
   "cell_type": "markdown",
   "metadata": {},
   "source": [
    "## How to exceute the notebook"
   ]
  },
  {
   "cell_type": "markdown",
   "metadata": {},
   "source": [
    "The jupyter notebook is kept extremely basic in nature for the understanding of how the problem was approached, and what steps were taken at each and every stage, The only thing needed is to __read the excel file and edit the file path__ in **orders=pd.read_excel('orders.xlsx')** "
   ]
  },
  {
   "cell_type": "markdown",
   "metadata": {},
   "source": [
    "## Approach Towards The Problem"
   ]
  },
  {
   "cell_type": "markdown",
   "metadata": {},
   "source": [
    "**OBJECTIVE:** <p>The data comprised of 10k data points for different customers and orders  and the objective of the exercise was  to be able to bifurcate the defauters from the non defaulters.</p>"
   ]
  },
  {
   "cell_type": "markdown",
   "metadata": {},
   "source": [
    "## APPROACH- HOW TO GO ABOUT THE PROBLEM"
   ]
  },
  {
   "cell_type": "markdown",
   "metadata": {},
   "source": [
    "1. Data was read and `basic EDA` was done, created a profile report quickly to check how th data is distributed, null values and most importantly certain warnings which helps understand which variables aren't ready to use\n",
    "2.Null Value Treatment- Most nulls were in installment columns which were indirectly `TARGET` columns\n",
    "3.Converting certain `warning string variables` into consistent string variables\n",
    "4.Removing `redundant columns` with single value throughout, like **approved_for_installments**,**paid_installment1** & removing handful `duplicate values` on orders assuming order_ids to be unique\n",
    "5.From the basic understanding of the data, `created new features`-\n",
    "    i. Target variables using paid installments\n",
    "    ii.AddressSimilarity\n",
    "    iii.Credit Score Grouping\n",
    "    iv. Customer Age grouping\n",
    "    v.Billing_zip_past( Creating ZIP code importances)\n",
    "    vi. Custid_past(Creating cust id importances)\n",
    "    vii.Merchantid_past (creating Merchantid importances)\n",
    "6.This not being a BATCH size problem we cannot create our train and test data using train_test_split and we will break our data on a certain date assuming we have past data till then, and predict accordingly\n",
    "7.Some very `basic plots and graphs` to understand the distribution of the data (Could have removed some outliers to make the data noisefree- but with limited knowledge about the variables went ahead without it)\n",
    "8. `Predictive Modelling`- (Focused only on one algorithm: LR)\n",
    "    Used logistic Regression (Base + Tuned)\n",
    "    Random Forest (Base + Tuned)\n",
    "    XGboost (Base + Tuned)\n",
    "    \n",
    "    Undersampling and Oversampling techniques on RF.\n",
    "    \n",
    "    Deciding which metric or how the model has performed and what we would like to increase depends totally on the business perspective. `Logistic Regression Tuned has given the best recall. \n",
    "    Around 45% fraudulent cases were classified correctly.`"
   ]
  },
  {
   "cell_type": "markdown",
   "metadata": {},
   "source": [
    "## Importing Basic Packages"
   ]
  },
  {
   "cell_type": "code",
   "execution_count": 77,
   "metadata": {},
   "outputs": [],
   "source": [
    "import pandas as pd\n",
    "import numpy as np\n",
    "import seaborn as sns\n",
    "import datetime as datetime\n",
    "import matplotlib.pyplot as plt\n",
    "from pandas_profiling import ProfileReport\n",
    "%matplotlib inline"
   ]
  },
  {
   "cell_type": "markdown",
   "metadata": {},
   "source": [
    "## Machine Learning packages needed ahead"
   ]
  },
  {
   "cell_type": "code",
   "execution_count": 78,
   "metadata": {},
   "outputs": [],
   "source": [
    "from sklearn.linear_model import LogisticRegression\n",
    "from sklearn.ensemble import RandomForestClassifier\n",
    "\n",
    "from collections import Counter\n",
    "from imblearn.under_sampling import NearMiss\n",
    "from imblearn.over_sampling import RandomOverSampler\n",
    "\n",
    "from sklearn.metrics import accuracy_score,confusion_matrix,classification_report\n",
    "from sklearn.model_selection import KFold\n",
    "import numpy as np\n",
    "from sklearn.model_selection import GridSearchCV\n",
    "from sklearn.model_selection import train_test_split\n",
    "\n",
    "from imblearn.combine import SMOTETomek\n",
    "from imblearn.ensemble import EasyEnsembleClassifier\n",
    "\n",
    "from sklearn.metrics import roc_auc_score\n",
    "from sklearn.metrics import precision_recall_curve\n",
    "from sklearn.preprocessing import StandardScaler"
   ]
  },
  {
   "cell_type": "markdown",
   "metadata": {},
   "source": [
    "## Reading the data"
   ]
  },
  {
   "cell_type": "code",
   "execution_count": 79,
   "metadata": {},
   "outputs": [],
   "source": [
    "orders=pd.read_excel('orders.xlsx')"
   ]
  },
  {
   "cell_type": "code",
   "execution_count": 80,
   "metadata": {},
   "outputs": [
    {
     "data": {
      "text/html": [
       "<div>\n",
       "<style scoped>\n",
       "    .dataframe tbody tr th:only-of-type {\n",
       "        vertical-align: middle;\n",
       "    }\n",
       "\n",
       "    .dataframe tbody tr th {\n",
       "        vertical-align: top;\n",
       "    }\n",
       "\n",
       "    .dataframe thead th {\n",
       "        text-align: right;\n",
       "    }\n",
       "</style>\n",
       "<table border=\"1\" class=\"dataframe\">\n",
       "  <thead>\n",
       "    <tr style=\"text-align: right;\">\n",
       "      <th></th>\n",
       "      <th>order_id</th>\n",
       "      <th>customer_id</th>\n",
       "      <th>merchant_id</th>\n",
       "      <th>order_amount</th>\n",
       "      <th>checkout_started_at</th>\n",
       "      <th>credit_decision_started_at</th>\n",
       "      <th>approved_for_installments</th>\n",
       "      <th>customer_credit_score</th>\n",
       "      <th>customer_age</th>\n",
       "      <th>customer_billing_zip</th>\n",
       "      <th>customer_shipping_zip</th>\n",
       "      <th>paid_installment_1</th>\n",
       "      <th>paid_installment_2</th>\n",
       "      <th>paid_installment_3</th>\n",
       "      <th>paid_installment_4</th>\n",
       "    </tr>\n",
       "  </thead>\n",
       "  <tbody>\n",
       "    <tr>\n",
       "      <th>0</th>\n",
       "      <td>42C39B</td>\n",
       "      <td>9D74A0</td>\n",
       "      <td>6881F9</td>\n",
       "      <td>147.20</td>\n",
       "      <td>2018-10-03 14:26:18.497</td>\n",
       "      <td>2018-10-03 14:26:18.997</td>\n",
       "      <td>True</td>\n",
       "      <td>626</td>\n",
       "      <td>26</td>\n",
       "      <td>95407</td>\n",
       "      <td>95407</td>\n",
       "      <td>1.0</td>\n",
       "      <td>1</td>\n",
       "      <td>1.0</td>\n",
       "      <td>1.0</td>\n",
       "    </tr>\n",
       "    <tr>\n",
       "      <th>1</th>\n",
       "      <td>A19AC4</td>\n",
       "      <td>2629AB</td>\n",
       "      <td>C37828</td>\n",
       "      <td>69.95</td>\n",
       "      <td>2018-09-21 16:55:03.443</td>\n",
       "      <td>2018-09-21 16:55:05.100</td>\n",
       "      <td>True</td>\n",
       "      <td>603</td>\n",
       "      <td>20</td>\n",
       "      <td>85007</td>\n",
       "      <td>85007</td>\n",
       "      <td>1.0</td>\n",
       "      <td>1</td>\n",
       "      <td>1.0</td>\n",
       "      <td>1.0</td>\n",
       "    </tr>\n",
       "    <tr>\n",
       "      <th>2</th>\n",
       "      <td>381AFF</td>\n",
       "      <td>793FE0</td>\n",
       "      <td>252600000000</td>\n",
       "      <td>45.00</td>\n",
       "      <td>2018-09-15 13:41:46.103</td>\n",
       "      <td>2018-09-15 13:41:47.197</td>\n",
       "      <td>True</td>\n",
       "      <td>648</td>\n",
       "      <td>41</td>\n",
       "      <td>30305-2646</td>\n",
       "      <td>30305-2646</td>\n",
       "      <td>1.0</td>\n",
       "      <td>1</td>\n",
       "      <td>1.0</td>\n",
       "      <td>1.0</td>\n",
       "    </tr>\n",
       "    <tr>\n",
       "      <th>3</th>\n",
       "      <td>3184A3</td>\n",
       "      <td>22C696</td>\n",
       "      <td>24FBAF</td>\n",
       "      <td>164.00</td>\n",
       "      <td>2018-10-10 00:59:25.793</td>\n",
       "      <td>2018-10-10 00:59:26.123</td>\n",
       "      <td>True</td>\n",
       "      <td>625</td>\n",
       "      <td>33</td>\n",
       "      <td>28562</td>\n",
       "      <td>28562</td>\n",
       "      <td>1.0</td>\n",
       "      <td>1</td>\n",
       "      <td>1.0</td>\n",
       "      <td>1.0</td>\n",
       "    </tr>\n",
       "    <tr>\n",
       "      <th>4</th>\n",
       "      <td>237711</td>\n",
       "      <td>D4E94A</td>\n",
       "      <td>6F498E</td>\n",
       "      <td>69.17</td>\n",
       "      <td>2018-09-12 22:53:08.970</td>\n",
       "      <td>2018-09-12 22:53:10.923</td>\n",
       "      <td>True</td>\n",
       "      <td>438</td>\n",
       "      <td>18</td>\n",
       "      <td>92324</td>\n",
       "      <td>92324</td>\n",
       "      <td>1.0</td>\n",
       "      <td>1</td>\n",
       "      <td>1.0</td>\n",
       "      <td>1.0</td>\n",
       "    </tr>\n",
       "    <tr>\n",
       "      <th>...</th>\n",
       "      <td>...</td>\n",
       "      <td>...</td>\n",
       "      <td>...</td>\n",
       "      <td>...</td>\n",
       "      <td>...</td>\n",
       "      <td>...</td>\n",
       "      <td>...</td>\n",
       "      <td>...</td>\n",
       "      <td>...</td>\n",
       "      <td>...</td>\n",
       "      <td>...</td>\n",
       "      <td>...</td>\n",
       "      <td>...</td>\n",
       "      <td>...</td>\n",
       "      <td>...</td>\n",
       "    </tr>\n",
       "    <tr>\n",
       "      <th>9995</th>\n",
       "      <td>17CAD0</td>\n",
       "      <td>A00DCD</td>\n",
       "      <td>26ECA2</td>\n",
       "      <td>63.66</td>\n",
       "      <td>2018-08-29 01:09:43.860</td>\n",
       "      <td>2018-08-29 01:09:45.343</td>\n",
       "      <td>True</td>\n",
       "      <td>613</td>\n",
       "      <td>37</td>\n",
       "      <td>60134</td>\n",
       "      <td>60134</td>\n",
       "      <td>1.0</td>\n",
       "      <td>1</td>\n",
       "      <td>1.0</td>\n",
       "      <td>1.0</td>\n",
       "    </tr>\n",
       "    <tr>\n",
       "      <th>9996</th>\n",
       "      <td>BAD8F0</td>\n",
       "      <td>8F5B50</td>\n",
       "      <td>9C0B17</td>\n",
       "      <td>83.89</td>\n",
       "      <td>2018-09-15 15:34:30.600</td>\n",
       "      <td>2018-09-15 15:34:31.723</td>\n",
       "      <td>True</td>\n",
       "      <td>771</td>\n",
       "      <td>34</td>\n",
       "      <td>10923</td>\n",
       "      <td>10923</td>\n",
       "      <td>1.0</td>\n",
       "      <td>1</td>\n",
       "      <td>1.0</td>\n",
       "      <td>1.0</td>\n",
       "    </tr>\n",
       "    <tr>\n",
       "      <th>9997</th>\n",
       "      <td>70DEB3</td>\n",
       "      <td>BC35EC</td>\n",
       "      <td>268696</td>\n",
       "      <td>95.25</td>\n",
       "      <td>2018-10-05 18:04:20.447</td>\n",
       "      <td>2018-10-05 18:04:20.773</td>\n",
       "      <td>True</td>\n",
       "      <td>611</td>\n",
       "      <td>45</td>\n",
       "      <td>60636</td>\n",
       "      <td>60636</td>\n",
       "      <td>1.0</td>\n",
       "      <td>1</td>\n",
       "      <td>1.0</td>\n",
       "      <td>1.0</td>\n",
       "    </tr>\n",
       "    <tr>\n",
       "      <th>9998</th>\n",
       "      <td>62754</td>\n",
       "      <td>476671</td>\n",
       "      <td>C37828</td>\n",
       "      <td>79.95</td>\n",
       "      <td>2018-09-21 19:47:58.717</td>\n",
       "      <td>2018-09-21 19:48:00.650</td>\n",
       "      <td>True</td>\n",
       "      <td>611</td>\n",
       "      <td>18</td>\n",
       "      <td>87021</td>\n",
       "      <td>87021</td>\n",
       "      <td>1.0</td>\n",
       "      <td>1</td>\n",
       "      <td>1.0</td>\n",
       "      <td>1.0</td>\n",
       "    </tr>\n",
       "    <tr>\n",
       "      <th>9999</th>\n",
       "      <td>EFF7C1</td>\n",
       "      <td>EFC4D8</td>\n",
       "      <td>3B88C5</td>\n",
       "      <td>15.50</td>\n",
       "      <td>2018-09-17 20:40:30.267</td>\n",
       "      <td>2018-09-17 20:40:31.923</td>\n",
       "      <td>True</td>\n",
       "      <td>611</td>\n",
       "      <td>19</td>\n",
       "      <td>95148</td>\n",
       "      <td>95148</td>\n",
       "      <td>1.0</td>\n",
       "      <td>1</td>\n",
       "      <td>1.0</td>\n",
       "      <td>1.0</td>\n",
       "    </tr>\n",
       "  </tbody>\n",
       "</table>\n",
       "<p>10000 rows × 15 columns</p>\n",
       "</div>"
      ],
      "text/plain": [
       "     order_id customer_id   merchant_id  order_amount     checkout_started_at  \\\n",
       "0      42C39B      9D74A0        6881F9        147.20 2018-10-03 14:26:18.497   \n",
       "1      A19AC4      2629AB        C37828         69.95 2018-09-21 16:55:03.443   \n",
       "2      381AFF      793FE0  252600000000         45.00 2018-09-15 13:41:46.103   \n",
       "3      3184A3      22C696        24FBAF        164.00 2018-10-10 00:59:25.793   \n",
       "4      237711      D4E94A        6F498E         69.17 2018-09-12 22:53:08.970   \n",
       "...       ...         ...           ...           ...                     ...   \n",
       "9995   17CAD0      A00DCD        26ECA2         63.66 2018-08-29 01:09:43.860   \n",
       "9996   BAD8F0      8F5B50        9C0B17         83.89 2018-09-15 15:34:30.600   \n",
       "9997   70DEB3      BC35EC        268696         95.25 2018-10-05 18:04:20.447   \n",
       "9998    62754      476671        C37828         79.95 2018-09-21 19:47:58.717   \n",
       "9999   EFF7C1      EFC4D8        3B88C5         15.50 2018-09-17 20:40:30.267   \n",
       "\n",
       "     credit_decision_started_at  approved_for_installments  \\\n",
       "0       2018-10-03 14:26:18.997                       True   \n",
       "1       2018-09-21 16:55:05.100                       True   \n",
       "2       2018-09-15 13:41:47.197                       True   \n",
       "3       2018-10-10 00:59:26.123                       True   \n",
       "4       2018-09-12 22:53:10.923                       True   \n",
       "...                         ...                        ...   \n",
       "9995    2018-08-29 01:09:45.343                       True   \n",
       "9996    2018-09-15 15:34:31.723                       True   \n",
       "9997    2018-10-05 18:04:20.773                       True   \n",
       "9998    2018-09-21 19:48:00.650                       True   \n",
       "9999    2018-09-17 20:40:31.923                       True   \n",
       "\n",
       "      customer_credit_score  customer_age customer_billing_zip  \\\n",
       "0                       626            26                95407   \n",
       "1                       603            20                85007   \n",
       "2                       648            41           30305-2646   \n",
       "3                       625            33                28562   \n",
       "4                       438            18                92324   \n",
       "...                     ...           ...                  ...   \n",
       "9995                    613            37                60134   \n",
       "9996                    771            34                10923   \n",
       "9997                    611            45                60636   \n",
       "9998                    611            18                87021   \n",
       "9999                    611            19                95148   \n",
       "\n",
       "     customer_shipping_zip  paid_installment_1  paid_installment_2  \\\n",
       "0                    95407                 1.0                   1   \n",
       "1                    85007                 1.0                   1   \n",
       "2               30305-2646                 1.0                   1   \n",
       "3                    28562                 1.0                   1   \n",
       "4                    92324                 1.0                   1   \n",
       "...                    ...                 ...                 ...   \n",
       "9995                 60134                 1.0                   1   \n",
       "9996                 10923                 1.0                   1   \n",
       "9997                 60636                 1.0                   1   \n",
       "9998                 87021                 1.0                   1   \n",
       "9999                 95148                 1.0                   1   \n",
       "\n",
       "      paid_installment_3  paid_installment_4  \n",
       "0                    1.0                 1.0  \n",
       "1                    1.0                 1.0  \n",
       "2                    1.0                 1.0  \n",
       "3                    1.0                 1.0  \n",
       "4                    1.0                 1.0  \n",
       "...                  ...                 ...  \n",
       "9995                 1.0                 1.0  \n",
       "9996                 1.0                 1.0  \n",
       "9997                 1.0                 1.0  \n",
       "9998                 1.0                 1.0  \n",
       "9999                 1.0                 1.0  \n",
       "\n",
       "[10000 rows x 15 columns]"
      ]
     },
     "execution_count": 80,
     "metadata": {},
     "output_type": "execute_result"
    }
   ],
   "source": [
    "orders"
   ]
  },
  {
   "cell_type": "code",
   "execution_count": 81,
   "metadata": {},
   "outputs": [
    {
     "data": {
      "text/html": [
       "<div>\n",
       "<style scoped>\n",
       "    .dataframe tbody tr th:only-of-type {\n",
       "        vertical-align: middle;\n",
       "    }\n",
       "\n",
       "    .dataframe tbody tr th {\n",
       "        vertical-align: top;\n",
       "    }\n",
       "\n",
       "    .dataframe thead th {\n",
       "        text-align: right;\n",
       "    }\n",
       "</style>\n",
       "<table border=\"1\" class=\"dataframe\">\n",
       "  <thead>\n",
       "    <tr style=\"text-align: right;\">\n",
       "      <th></th>\n",
       "      <th>order_amount</th>\n",
       "      <th>customer_credit_score</th>\n",
       "      <th>customer_age</th>\n",
       "      <th>paid_installment_1</th>\n",
       "      <th>paid_installment_2</th>\n",
       "      <th>paid_installment_3</th>\n",
       "      <th>paid_installment_4</th>\n",
       "    </tr>\n",
       "  </thead>\n",
       "  <tbody>\n",
       "    <tr>\n",
       "      <th>count</th>\n",
       "      <td>10000.000000</td>\n",
       "      <td>10000.000000</td>\n",
       "      <td>10000.000000</td>\n",
       "      <td>9998.0</td>\n",
       "      <td>10000.000000</td>\n",
       "      <td>9996.000000</td>\n",
       "      <td>9423.000000</td>\n",
       "    </tr>\n",
       "    <tr>\n",
       "      <th>mean</th>\n",
       "      <td>146.252272</td>\n",
       "      <td>613.435900</td>\n",
       "      <td>33.544300</td>\n",
       "      <td>1.0</td>\n",
       "      <td>0.977900</td>\n",
       "      <td>0.959684</td>\n",
       "      <td>0.940359</td>\n",
       "    </tr>\n",
       "    <tr>\n",
       "      <th>std</th>\n",
       "      <td>167.883106</td>\n",
       "      <td>92.555118</td>\n",
       "      <td>11.933729</td>\n",
       "      <td>0.0</td>\n",
       "      <td>0.147016</td>\n",
       "      <td>0.196709</td>\n",
       "      <td>0.236834</td>\n",
       "    </tr>\n",
       "    <tr>\n",
       "      <th>min</th>\n",
       "      <td>4.950000</td>\n",
       "      <td>1.000000</td>\n",
       "      <td>18.000000</td>\n",
       "      <td>1.0</td>\n",
       "      <td>0.000000</td>\n",
       "      <td>0.000000</td>\n",
       "      <td>0.000000</td>\n",
       "    </tr>\n",
       "    <tr>\n",
       "      <th>25%</th>\n",
       "      <td>64.000000</td>\n",
       "      <td>562.000000</td>\n",
       "      <td>24.000000</td>\n",
       "      <td>1.0</td>\n",
       "      <td>1.000000</td>\n",
       "      <td>1.000000</td>\n",
       "      <td>1.000000</td>\n",
       "    </tr>\n",
       "    <tr>\n",
       "      <th>50%</th>\n",
       "      <td>90.765000</td>\n",
       "      <td>611.000000</td>\n",
       "      <td>30.000000</td>\n",
       "      <td>1.0</td>\n",
       "      <td>1.000000</td>\n",
       "      <td>1.000000</td>\n",
       "      <td>1.000000</td>\n",
       "    </tr>\n",
       "    <tr>\n",
       "      <th>75%</th>\n",
       "      <td>155.000000</td>\n",
       "      <td>664.000000</td>\n",
       "      <td>40.250000</td>\n",
       "      <td>1.0</td>\n",
       "      <td>1.000000</td>\n",
       "      <td>1.000000</td>\n",
       "      <td>1.000000</td>\n",
       "    </tr>\n",
       "    <tr>\n",
       "      <th>max</th>\n",
       "      <td>1936.000000</td>\n",
       "      <td>836.000000</td>\n",
       "      <td>89.000000</td>\n",
       "      <td>1.0</td>\n",
       "      <td>1.000000</td>\n",
       "      <td>1.000000</td>\n",
       "      <td>1.000000</td>\n",
       "    </tr>\n",
       "  </tbody>\n",
       "</table>\n",
       "</div>"
      ],
      "text/plain": [
       "       order_amount  customer_credit_score  customer_age  paid_installment_1  \\\n",
       "count  10000.000000           10000.000000  10000.000000              9998.0   \n",
       "mean     146.252272             613.435900     33.544300                 1.0   \n",
       "std      167.883106              92.555118     11.933729                 0.0   \n",
       "min        4.950000               1.000000     18.000000                 1.0   \n",
       "25%       64.000000             562.000000     24.000000                 1.0   \n",
       "50%       90.765000             611.000000     30.000000                 1.0   \n",
       "75%      155.000000             664.000000     40.250000                 1.0   \n",
       "max     1936.000000             836.000000     89.000000                 1.0   \n",
       "\n",
       "       paid_installment_2  paid_installment_3  paid_installment_4  \n",
       "count        10000.000000         9996.000000         9423.000000  \n",
       "mean             0.977900            0.959684            0.940359  \n",
       "std              0.147016            0.196709            0.236834  \n",
       "min              0.000000            0.000000            0.000000  \n",
       "25%              1.000000            1.000000            1.000000  \n",
       "50%              1.000000            1.000000            1.000000  \n",
       "75%              1.000000            1.000000            1.000000  \n",
       "max              1.000000            1.000000            1.000000  "
      ]
     },
     "execution_count": 81,
     "metadata": {},
     "output_type": "execute_result"
    }
   ],
   "source": [
    "orders.describe()"
   ]
  },
  {
   "cell_type": "markdown",
   "metadata": {},
   "source": [
    "## Pandas Profiling-Quick Basic understanding of the data"
   ]
  },
  {
   "cell_type": "code",
   "execution_count": 82,
   "metadata": {},
   "outputs": [],
   "source": [
    "profile = ProfileReport(orders, title=\"Quadpay Profiling Report\")\n",
    "#can be printed -profile"
   ]
  },
  {
   "cell_type": "markdown",
   "metadata": {},
   "source": [
    "### Basic Understanding of the data from the report"
   ]
  },
  {
   "cell_type": "markdown",
   "metadata": {},
   "source": [
    "## Exploratory Data Analysis"
   ]
  },
  {
   "cell_type": "markdown",
   "metadata": {},
   "source": [
    "### Null Value Treatment"
   ]
  },
  {
   "cell_type": "markdown",
   "metadata": {},
   "source": [
    "First and Foremost i like to check if my data consists of any null/blank values which might make it difficult for me or the model to understand the problem"
   ]
  },
  {
   "cell_type": "code",
   "execution_count": 83,
   "metadata": {},
   "outputs": [
    {
     "name": "stdout",
     "output_type": "stream",
     "text": [
      "Total null values in the dataset are 617\n"
     ]
    }
   ],
   "source": [
    "print(f'Total null values in the dataset are {orders.isnull().sum().sum()}')"
   ]
  },
  {
   "cell_type": "code",
   "execution_count": 84,
   "metadata": {},
   "outputs": [
    {
     "data": {
      "text/plain": [
       "order_id                        0\n",
       "customer_id                     0\n",
       "merchant_id                     0\n",
       "order_amount                    0\n",
       "checkout_started_at             0\n",
       "credit_decision_started_at      0\n",
       "approved_for_installments       0\n",
       "customer_credit_score           0\n",
       "customer_age                    0\n",
       "customer_billing_zip           11\n",
       "customer_shipping_zip          23\n",
       "paid_installment_1              2\n",
       "paid_installment_2              0\n",
       "paid_installment_3              4\n",
       "paid_installment_4            577\n",
       "dtype: int64"
      ]
     },
     "execution_count": 84,
     "metadata": {},
     "output_type": "execute_result"
    }
   ],
   "source": [
    "orders.isnull().sum()"
   ]
  },
  {
   "cell_type": "markdown",
   "metadata": {},
   "source": [
    "**As most of the null variables are in the dependant variable (Sum of Paid Installments),<br>\n",
    "imputing may add noise/uncertainty, and the data missing is about 5%.**<br>\n",
    "\n",
    "So <br>\n",
    "_1._ We would drop the null values<br>\n",
    "_2._ We might run the same thing by keeping them<br>\n",
    "_3._ Impute with most common value<br>\n",
    "\n",
    "Can run the model for all three and analyse the difference"
   ]
  },
  {
   "cell_type": "markdown",
   "metadata": {},
   "source": [
    "## Approach-1  (Throwing Nulls)"
   ]
  },
  {
   "cell_type": "code",
   "execution_count": 85,
   "metadata": {},
   "outputs": [],
   "source": [
    "orders=orders.dropna().reset_index(drop=True)"
   ]
  },
  {
   "cell_type": "markdown",
   "metadata": {},
   "source": [
    "**Null Values in Dependant/Target Variable** \n",
    "\n",
    "1. Impute data**\n",
    "\n",
    "2. Throw away data\n",
    "\n",
    "3. Use a classifier that can handle missing data, e.g. xgboost. \n",
    "\n",
    "**Some other points:**\n",
    "\n",
    "The pattern of missing values is important, and can influence the choice of algorithm.\n",
    "\n",
    "If dataset is noisy, imputing may increase noise.\n",
    "If the null values are low in number, can remove those data points or train both with or without that data and see if the combination performs better\n"
   ]
  },
  {
   "cell_type": "markdown",
   "metadata": {},
   "source": [
    "**Next step comes out to be feature engineering which is important to tell which features are important**"
   ]
  },
  {
   "cell_type": "code",
   "execution_count": 86,
   "metadata": {},
   "outputs": [
    {
     "data": {
      "text/plain": [
       "Index(['order_id', 'customer_id', 'merchant_id', 'order_amount',\n",
       "       'checkout_started_at', 'credit_decision_started_at',\n",
       "       'approved_for_installments', 'customer_credit_score', 'customer_age',\n",
       "       'customer_billing_zip', 'customer_shipping_zip', 'paid_installment_1',\n",
       "       'paid_installment_2', 'paid_installment_3', 'paid_installment_4'],\n",
       "      dtype='object')"
      ]
     },
     "execution_count": 86,
     "metadata": {},
     "output_type": "execute_result"
    }
   ],
   "source": [
    "orders.columns"
   ]
  },
  {
   "cell_type": "code",
   "execution_count": 87,
   "metadata": {},
   "outputs": [
    {
     "data": {
      "text/html": [
       "<div>\n",
       "<style scoped>\n",
       "    .dataframe tbody tr th:only-of-type {\n",
       "        vertical-align: middle;\n",
       "    }\n",
       "\n",
       "    .dataframe tbody tr th {\n",
       "        vertical-align: top;\n",
       "    }\n",
       "\n",
       "    .dataframe thead th {\n",
       "        text-align: right;\n",
       "    }\n",
       "</style>\n",
       "<table border=\"1\" class=\"dataframe\">\n",
       "  <thead>\n",
       "    <tr style=\"text-align: right;\">\n",
       "      <th></th>\n",
       "      <th>order_id</th>\n",
       "      <th>customer_id</th>\n",
       "      <th>merchant_id</th>\n",
       "      <th>order_amount</th>\n",
       "      <th>checkout_started_at</th>\n",
       "      <th>credit_decision_started_at</th>\n",
       "      <th>approved_for_installments</th>\n",
       "      <th>customer_credit_score</th>\n",
       "      <th>customer_age</th>\n",
       "      <th>customer_billing_zip</th>\n",
       "      <th>customer_shipping_zip</th>\n",
       "      <th>paid_installment_1</th>\n",
       "      <th>paid_installment_2</th>\n",
       "      <th>paid_installment_3</th>\n",
       "      <th>paid_installment_4</th>\n",
       "    </tr>\n",
       "  </thead>\n",
       "  <tbody>\n",
       "    <tr>\n",
       "      <th>0</th>\n",
       "      <td>42C39B</td>\n",
       "      <td>9D74A0</td>\n",
       "      <td>6881F9</td>\n",
       "      <td>147.20</td>\n",
       "      <td>2018-10-03 14:26:18.497</td>\n",
       "      <td>2018-10-03 14:26:18.997</td>\n",
       "      <td>True</td>\n",
       "      <td>626</td>\n",
       "      <td>26</td>\n",
       "      <td>95407</td>\n",
       "      <td>95407</td>\n",
       "      <td>1.0</td>\n",
       "      <td>1</td>\n",
       "      <td>1.0</td>\n",
       "      <td>1.0</td>\n",
       "    </tr>\n",
       "    <tr>\n",
       "      <th>1</th>\n",
       "      <td>A19AC4</td>\n",
       "      <td>2629AB</td>\n",
       "      <td>C37828</td>\n",
       "      <td>69.95</td>\n",
       "      <td>2018-09-21 16:55:03.443</td>\n",
       "      <td>2018-09-21 16:55:05.100</td>\n",
       "      <td>True</td>\n",
       "      <td>603</td>\n",
       "      <td>20</td>\n",
       "      <td>85007</td>\n",
       "      <td>85007</td>\n",
       "      <td>1.0</td>\n",
       "      <td>1</td>\n",
       "      <td>1.0</td>\n",
       "      <td>1.0</td>\n",
       "    </tr>\n",
       "    <tr>\n",
       "      <th>2</th>\n",
       "      <td>381AFF</td>\n",
       "      <td>793FE0</td>\n",
       "      <td>252600000000</td>\n",
       "      <td>45.00</td>\n",
       "      <td>2018-09-15 13:41:46.103</td>\n",
       "      <td>2018-09-15 13:41:47.197</td>\n",
       "      <td>True</td>\n",
       "      <td>648</td>\n",
       "      <td>41</td>\n",
       "      <td>30305-2646</td>\n",
       "      <td>30305-2646</td>\n",
       "      <td>1.0</td>\n",
       "      <td>1</td>\n",
       "      <td>1.0</td>\n",
       "      <td>1.0</td>\n",
       "    </tr>\n",
       "    <tr>\n",
       "      <th>3</th>\n",
       "      <td>3184A3</td>\n",
       "      <td>22C696</td>\n",
       "      <td>24FBAF</td>\n",
       "      <td>164.00</td>\n",
       "      <td>2018-10-10 00:59:25.793</td>\n",
       "      <td>2018-10-10 00:59:26.123</td>\n",
       "      <td>True</td>\n",
       "      <td>625</td>\n",
       "      <td>33</td>\n",
       "      <td>28562</td>\n",
       "      <td>28562</td>\n",
       "      <td>1.0</td>\n",
       "      <td>1</td>\n",
       "      <td>1.0</td>\n",
       "      <td>1.0</td>\n",
       "    </tr>\n",
       "    <tr>\n",
       "      <th>4</th>\n",
       "      <td>237711</td>\n",
       "      <td>D4E94A</td>\n",
       "      <td>6F498E</td>\n",
       "      <td>69.17</td>\n",
       "      <td>2018-09-12 22:53:08.970</td>\n",
       "      <td>2018-09-12 22:53:10.923</td>\n",
       "      <td>True</td>\n",
       "      <td>438</td>\n",
       "      <td>18</td>\n",
       "      <td>92324</td>\n",
       "      <td>92324</td>\n",
       "      <td>1.0</td>\n",
       "      <td>1</td>\n",
       "      <td>1.0</td>\n",
       "      <td>1.0</td>\n",
       "    </tr>\n",
       "  </tbody>\n",
       "</table>\n",
       "</div>"
      ],
      "text/plain": [
       "  order_id customer_id   merchant_id  order_amount     checkout_started_at  \\\n",
       "0   42C39B      9D74A0        6881F9        147.20 2018-10-03 14:26:18.497   \n",
       "1   A19AC4      2629AB        C37828         69.95 2018-09-21 16:55:03.443   \n",
       "2   381AFF      793FE0  252600000000         45.00 2018-09-15 13:41:46.103   \n",
       "3   3184A3      22C696        24FBAF        164.00 2018-10-10 00:59:25.793   \n",
       "4   237711      D4E94A        6F498E         69.17 2018-09-12 22:53:08.970   \n",
       "\n",
       "  credit_decision_started_at  approved_for_installments  \\\n",
       "0    2018-10-03 14:26:18.997                       True   \n",
       "1    2018-09-21 16:55:05.100                       True   \n",
       "2    2018-09-15 13:41:47.197                       True   \n",
       "3    2018-10-10 00:59:26.123                       True   \n",
       "4    2018-09-12 22:53:10.923                       True   \n",
       "\n",
       "   customer_credit_score  customer_age customer_billing_zip  \\\n",
       "0                    626            26                95407   \n",
       "1                    603            20                85007   \n",
       "2                    648            41           30305-2646   \n",
       "3                    625            33                28562   \n",
       "4                    438            18                92324   \n",
       "\n",
       "  customer_shipping_zip  paid_installment_1  paid_installment_2  \\\n",
       "0                 95407                 1.0                   1   \n",
       "1                 85007                 1.0                   1   \n",
       "2            30305-2646                 1.0                   1   \n",
       "3                 28562                 1.0                   1   \n",
       "4                 92324                 1.0                   1   \n",
       "\n",
       "   paid_installment_3  paid_installment_4  \n",
       "0                 1.0                 1.0  \n",
       "1                 1.0                 1.0  \n",
       "2                 1.0                 1.0  \n",
       "3                 1.0                 1.0  \n",
       "4                 1.0                 1.0  "
      ]
     },
     "execution_count": 87,
     "metadata": {},
     "output_type": "execute_result"
    }
   ],
   "source": [
    "orders.head()"
   ]
  },
  {
   "cell_type": "markdown",
   "metadata": {},
   "source": [
    "### Convering Obj Variables into string"
   ]
  },
  {
   "cell_type": "code",
   "execution_count": 88,
   "metadata": {},
   "outputs": [
    {
     "data": {
      "text/plain": [
       "order_id                              object\n",
       "customer_id                           object\n",
       "merchant_id                           object\n",
       "order_amount                         float64\n",
       "checkout_started_at           datetime64[ns]\n",
       "credit_decision_started_at    datetime64[ns]\n",
       "approved_for_installments               bool\n",
       "customer_credit_score                  int64\n",
       "customer_age                           int64\n",
       "customer_billing_zip                  object\n",
       "customer_shipping_zip                 object\n",
       "paid_installment_1                   float64\n",
       "paid_installment_2                     int64\n",
       "paid_installment_3                   float64\n",
       "paid_installment_4                   float64\n",
       "dtype: object"
      ]
     },
     "execution_count": 88,
     "metadata": {},
     "output_type": "execute_result"
    }
   ],
   "source": [
    "orders.dtypes"
   ]
  },
  {
   "cell_type": "code",
   "execution_count": 89,
   "metadata": {},
   "outputs": [],
   "source": [
    "orders.customer_id=orders.customer_id.astype('str')\n",
    "orders.order_id=orders.order_id.astype('str')\n",
    "orders.merchant_id=orders.merchant_id.astype('str')\n",
    "orders.customer_billing_zip=orders.customer_billing_zip.astype('str')\n",
    "orders.customer_shipping_zip=orders.customer_shipping_zip.astype('str')"
   ]
  },
  {
   "cell_type": "markdown",
   "metadata": {},
   "source": [
    "### Converting Datetime"
   ]
  },
  {
   "cell_type": "code",
   "execution_count": 90,
   "metadata": {},
   "outputs": [],
   "source": [
    "orders['checkout_started_at']=pd.to_datetime(orders['checkout_started_at'], format='%Y-%m-%d %H:%M:%S.%f')\n",
    "orders['credit_decision_started_at']=pd.to_datetime(orders['credit_decision_started_at'], format='%Y-%m-%d %H:%M:%S.%f')"
   ]
  },
  {
   "cell_type": "markdown",
   "metadata": {},
   "source": [
    "## Removing redundant columns"
   ]
  },
  {
   "cell_type": "markdown",
   "metadata": {},
   "source": [
    "As we can see that 100% of the data falls under this specific category, hence we don't need it. All these orders were **APPROVED** for installments<p>"
   ]
  },
  {
   "cell_type": "code",
   "execution_count": 91,
   "metadata": {},
   "outputs": [
    {
     "data": {
      "text/plain": [
       "1    0.977754\n",
       "0    0.022246\n",
       "Name: paid_installment_2, dtype: float64"
      ]
     },
     "execution_count": 91,
     "metadata": {},
     "output_type": "execute_result"
    }
   ],
   "source": [
    "orders.paid_installment_2.value_counts(normalize=True)"
   ]
  },
  {
   "cell_type": "code",
   "execution_count": 92,
   "metadata": {},
   "outputs": [
    {
     "name": "stdout",
     "output_type": "stream",
     "text": [
      "As value counts are like this approved_for_installments\n",
      "True                         9395\n",
      "dtype: int64,we can drop this column\n"
     ]
    }
   ],
   "source": [
    "print(f'As value counts are like this {orders.select_dtypes([bool]).value_counts()},we can drop this column')\n",
    "\n",
    "orders.drop('approved_for_installments',axis=1,inplace=True)"
   ]
  },
  {
   "cell_type": "markdown",
   "metadata": {},
   "source": [
    "# Removing 9 duplicates on unique variable"
   ]
  },
  {
   "cell_type": "code",
   "execution_count": 94,
   "metadata": {},
   "outputs": [],
   "source": [
    "orders=orders[orders.order_id.duplicated()==False]"
   ]
  },
  {
   "cell_type": "markdown",
   "metadata": {},
   "source": [
    "# DefaulterCheck & Defaulter"
   ]
  },
  {
   "cell_type": "code",
   "execution_count": 95,
   "metadata": {},
   "outputs": [],
   "source": [
    "orders['Defaulter_check']=orders['paid_installment_1']+ orders['paid_installment_2']+ orders['paid_installment_3']+ orders['paid_installment_4']\n",
    "orders['Defaulter']=np.where(orders.Defaulter_check<4,'Defaulter','Non Defaulter')"
   ]
  },
  {
   "cell_type": "markdown",
   "metadata": {},
   "source": [
    "## 0=Non_Defaulter, 1=Defaulter"
   ]
  },
  {
   "cell_type": "code",
   "execution_count": 96,
   "metadata": {},
   "outputs": [],
   "source": [
    "orders['Defaulter_Target']=np.where(orders['Defaulter']=='Non Defaulter',0,1)"
   ]
  },
  {
   "cell_type": "code",
   "execution_count": 97,
   "metadata": {},
   "outputs": [
    {
     "data": {
      "text/plain": [
       "Index(['order_id', 'customer_id', 'merchant_id', 'order_amount',\n",
       "       'checkout_started_at', 'credit_decision_started_at',\n",
       "       'customer_credit_score', 'customer_age', 'customer_billing_zip',\n",
       "       'customer_shipping_zip', 'paid_installment_1', 'paid_installment_2',\n",
       "       'paid_installment_3', 'paid_installment_4', 'Defaulter_check',\n",
       "       'Defaulter', 'Defaulter_Target'],\n",
       "      dtype='object')"
      ]
     },
     "execution_count": 97,
     "metadata": {},
     "output_type": "execute_result"
    }
   ],
   "source": [
    "orders.columns"
   ]
  },
  {
   "cell_type": "markdown",
   "metadata": {},
   "source": [
    "# AddressSimilarity-Fuddu"
   ]
  },
  {
   "cell_type": "code",
   "execution_count": 98,
   "metadata": {},
   "outputs": [],
   "source": [
    "orders['Address_similarity']=orders.customer_billing_zip==orders.customer_shipping_zip"
   ]
  },
  {
   "cell_type": "code",
   "execution_count": 99,
   "metadata": {},
   "outputs": [
    {
     "data": {
      "text/plain": [
       "Address_similarity  Defaulter    \n",
       "False               Non Defaulter    0.933661\n",
       "                    Defaulter        0.066339\n",
       "True                Non Defaulter    0.928475\n",
       "                    Defaulter        0.071525\n",
       "Name: Defaulter, dtype: float64"
      ]
     },
     "execution_count": 99,
     "metadata": {},
     "output_type": "execute_result"
    }
   ],
   "source": [
    "orders.groupby(['Address_similarity'])['Defaulter'].value_counts(normalize=True)"
   ]
  },
  {
   "cell_type": "markdown",
   "metadata": {},
   "source": [
    "# CreditBinned"
   ]
  },
  {
   "cell_type": "code",
   "execution_count": 100,
   "metadata": {},
   "outputs": [
    {
     "data": {
      "text/html": [
       "<div>\n",
       "<style scoped>\n",
       "    .dataframe tbody tr th:only-of-type {\n",
       "        vertical-align: middle;\n",
       "    }\n",
       "\n",
       "    .dataframe tbody tr th {\n",
       "        vertical-align: top;\n",
       "    }\n",
       "\n",
       "    .dataframe thead th {\n",
       "        text-align: right;\n",
       "    }\n",
       "</style>\n",
       "<table border=\"1\" class=\"dataframe\">\n",
       "  <thead>\n",
       "    <tr style=\"text-align: right;\">\n",
       "      <th></th>\n",
       "      <th>customer_credit_score</th>\n",
       "      <th>order_amount</th>\n",
       "      <th>customer_age</th>\n",
       "    </tr>\n",
       "    <tr>\n",
       "      <th>Defaulter</th>\n",
       "      <th></th>\n",
       "      <th></th>\n",
       "      <th></th>\n",
       "    </tr>\n",
       "  </thead>\n",
       "  <tbody>\n",
       "    <tr>\n",
       "      <th>Defaulter</th>\n",
       "      <td>556.557895</td>\n",
       "      <td>143.689143</td>\n",
       "      <td>31.512782</td>\n",
       "    </tr>\n",
       "    <tr>\n",
       "      <th>Non Defaulter</th>\n",
       "      <td>617.604288</td>\n",
       "      <td>145.716085</td>\n",
       "      <td>33.745442</td>\n",
       "    </tr>\n",
       "  </tbody>\n",
       "</table>\n",
       "</div>"
      ],
      "text/plain": [
       "               customer_credit_score  order_amount  customer_age\n",
       "Defaulter                                                       \n",
       "Defaulter                 556.557895    143.689143     31.512782\n",
       "Non Defaulter             617.604288    145.716085     33.745442"
      ]
     },
     "execution_count": 100,
     "metadata": {},
     "output_type": "execute_result"
    }
   ],
   "source": [
    "orders.groupby(['Defaulter']).agg({'customer_credit_score': 'mean','order_amount':'mean','customer_age':'mean'})"
   ]
  },
  {
   "cell_type": "code",
   "execution_count": 101,
   "metadata": {},
   "outputs": [
    {
     "data": {
      "text/plain": [
       "count    9386.000000\n",
       "mean      613.279139\n",
       "std        93.046506\n",
       "min         1.000000\n",
       "25%       562.000000\n",
       "50%       611.000000\n",
       "75%       664.000000\n",
       "max       836.000000\n",
       "Name: customer_credit_score, dtype: float64"
      ]
     },
     "execution_count": 101,
     "metadata": {},
     "output_type": "execute_result"
    }
   ],
   "source": [
    "orders.customer_credit_score.describe()"
   ]
  },
  {
   "cell_type": "code",
   "execution_count": 102,
   "metadata": {},
   "outputs": [],
   "source": [
    "bins = [0,300,400,500,550,600,650,700,750,800]\n",
    "orders['credit_binned'] = pd.cut(orders['customer_credit_score'], bins)"
   ]
  },
  {
   "cell_type": "markdown",
   "metadata": {},
   "source": [
    "# Customer_Age"
   ]
  },
  {
   "cell_type": "code",
   "execution_count": 103,
   "metadata": {},
   "outputs": [],
   "source": [
    "bins = [0,18,24,35,45,60,70]\n",
    "orders['customer_age_bins'] = pd.cut(orders['customer_age'], bins)"
   ]
  },
  {
   "cell_type": "markdown",
   "metadata": {},
   "source": [
    "# Billing-Zip_Importances"
   ]
  },
  {
   "cell_type": "code",
   "execution_count": 104,
   "metadata": {},
   "outputs": [],
   "source": [
    "zip_data=orders[['customer_billing_zip','credit_decision_started_at','Defaulter_Target']]\n",
    "zip_data=zip_data.assign(Counter=1)\n",
    "\n",
    "zip_data=zip_data.groupby(['customer_billing_zip','credit_decision_started_at']).sum().groupby('customer_billing_zip').cumsum()[['Defaulter_Target','Counter']].reset_index()\n",
    "\n",
    "zip_data['Past_cases_zip']=zip_data['Counter']-1\n",
    "zip_data['Past_defaults_zip']=np.where(zip_data['Defaulter_Target']==0,0,zip_data['Defaulter_Target']-1)"
   ]
  },
  {
   "cell_type": "markdown",
   "metadata": {},
   "source": [
    "#### Important zip-95355-4805,,customerid 04CB4C\n"
   ]
  },
  {
   "cell_type": "markdown",
   "metadata": {},
   "source": [
    "orders[orders['customer_billing_zip']=='95355-4805']"
   ]
  },
  {
   "cell_type": "code",
   "execution_count": 105,
   "metadata": {},
   "outputs": [],
   "source": [
    "zip_data=zip_data[['customer_billing_zip', 'credit_decision_started_at', 'Past_cases_zip', 'Past_defaults_zip']]\n",
    "orders=pd.merge(orders,zip_data,on=['customer_billing_zip','credit_decision_started_at'],how='left')"
   ]
  },
  {
   "cell_type": "code",
   "execution_count": 106,
   "metadata": {},
   "outputs": [
    {
     "data": {
      "text/html": [
       "<div>\n",
       "<style scoped>\n",
       "    .dataframe tbody tr th:only-of-type {\n",
       "        vertical-align: middle;\n",
       "    }\n",
       "\n",
       "    .dataframe tbody tr th {\n",
       "        vertical-align: top;\n",
       "    }\n",
       "\n",
       "    .dataframe thead th {\n",
       "        text-align: right;\n",
       "    }\n",
       "</style>\n",
       "<table border=\"1\" class=\"dataframe\">\n",
       "  <thead>\n",
       "    <tr style=\"text-align: right;\">\n",
       "      <th></th>\n",
       "      <th>order_id</th>\n",
       "      <th>customer_id</th>\n",
       "      <th>merchant_id</th>\n",
       "      <th>order_amount</th>\n",
       "      <th>checkout_started_at</th>\n",
       "      <th>credit_decision_started_at</th>\n",
       "      <th>customer_credit_score</th>\n",
       "      <th>customer_age</th>\n",
       "      <th>customer_billing_zip</th>\n",
       "      <th>customer_shipping_zip</th>\n",
       "      <th>...</th>\n",
       "      <th>paid_installment_3</th>\n",
       "      <th>paid_installment_4</th>\n",
       "      <th>Defaulter_check</th>\n",
       "      <th>Defaulter</th>\n",
       "      <th>Defaulter_Target</th>\n",
       "      <th>Address_similarity</th>\n",
       "      <th>credit_binned</th>\n",
       "      <th>customer_age_bins</th>\n",
       "      <th>Past_cases_zip</th>\n",
       "      <th>Past_defaults_zip</th>\n",
       "    </tr>\n",
       "  </thead>\n",
       "  <tbody>\n",
       "    <tr>\n",
       "      <th>4420</th>\n",
       "      <td>B00C24</td>\n",
       "      <td>CDF79B</td>\n",
       "      <td>E3FFE5</td>\n",
       "      <td>71.97</td>\n",
       "      <td>2018-09-08 22:04:36.177</td>\n",
       "      <td>2018-09-08 22:04:37.647</td>\n",
       "      <td>495</td>\n",
       "      <td>47</td>\n",
       "      <td>97078</td>\n",
       "      <td>97078</td>\n",
       "      <td>...</td>\n",
       "      <td>1.0</td>\n",
       "      <td>1.0</td>\n",
       "      <td>4.0</td>\n",
       "      <td>Non Defaulter</td>\n",
       "      <td>0</td>\n",
       "      <td>True</td>\n",
       "      <td>(400, 500]</td>\n",
       "      <td>(45, 60]</td>\n",
       "      <td>0</td>\n",
       "      <td>0</td>\n",
       "    </tr>\n",
       "    <tr>\n",
       "      <th>5197</th>\n",
       "      <td>649834</td>\n",
       "      <td>1F94E3</td>\n",
       "      <td>C37828</td>\n",
       "      <td>74.90</td>\n",
       "      <td>2018-09-26 23:32:01.907</td>\n",
       "      <td>2018-09-26 23:32:03.453</td>\n",
       "      <td>740</td>\n",
       "      <td>30</td>\n",
       "      <td>93536</td>\n",
       "      <td>96818</td>\n",
       "      <td>...</td>\n",
       "      <td>1.0</td>\n",
       "      <td>1.0</td>\n",
       "      <td>4.0</td>\n",
       "      <td>Non Defaulter</td>\n",
       "      <td>0</td>\n",
       "      <td>False</td>\n",
       "      <td>(700, 750]</td>\n",
       "      <td>(24, 35]</td>\n",
       "      <td>0</td>\n",
       "      <td>0</td>\n",
       "    </tr>\n",
       "    <tr>\n",
       "      <th>5195</th>\n",
       "      <td>F59229</td>\n",
       "      <td>DD2788</td>\n",
       "      <td>32BC4E</td>\n",
       "      <td>305.00</td>\n",
       "      <td>2018-10-02 00:08:31.770</td>\n",
       "      <td>2018-10-02 00:08:32.130</td>\n",
       "      <td>583</td>\n",
       "      <td>37</td>\n",
       "      <td>44691</td>\n",
       "      <td>44691</td>\n",
       "      <td>...</td>\n",
       "      <td>1.0</td>\n",
       "      <td>1.0</td>\n",
       "      <td>4.0</td>\n",
       "      <td>Non Defaulter</td>\n",
       "      <td>0</td>\n",
       "      <td>True</td>\n",
       "      <td>(550, 600]</td>\n",
       "      <td>(35, 45]</td>\n",
       "      <td>0</td>\n",
       "      <td>0</td>\n",
       "    </tr>\n",
       "    <tr>\n",
       "      <th>5194</th>\n",
       "      <td>8CF6C3</td>\n",
       "      <td>560876</td>\n",
       "      <td>05BCA0</td>\n",
       "      <td>75.00</td>\n",
       "      <td>2018-10-09 01:42:54.360</td>\n",
       "      <td>2018-10-09 01:42:54.783</td>\n",
       "      <td>627</td>\n",
       "      <td>66</td>\n",
       "      <td>18966</td>\n",
       "      <td>18966</td>\n",
       "      <td>...</td>\n",
       "      <td>1.0</td>\n",
       "      <td>1.0</td>\n",
       "      <td>4.0</td>\n",
       "      <td>Non Defaulter</td>\n",
       "      <td>0</td>\n",
       "      <td>True</td>\n",
       "      <td>(600, 650]</td>\n",
       "      <td>(60, 70]</td>\n",
       "      <td>0</td>\n",
       "      <td>0</td>\n",
       "    </tr>\n",
       "    <tr>\n",
       "      <th>5191</th>\n",
       "      <td>F2DDBA</td>\n",
       "      <td>40449</td>\n",
       "      <td>767C9E</td>\n",
       "      <td>115.00</td>\n",
       "      <td>2018-09-10 22:27:37.583</td>\n",
       "      <td>2018-09-10 22:27:38.583</td>\n",
       "      <td>574</td>\n",
       "      <td>26</td>\n",
       "      <td>46220</td>\n",
       "      <td>46220</td>\n",
       "      <td>...</td>\n",
       "      <td>1.0</td>\n",
       "      <td>1.0</td>\n",
       "      <td>4.0</td>\n",
       "      <td>Non Defaulter</td>\n",
       "      <td>0</td>\n",
       "      <td>True</td>\n",
       "      <td>(550, 600]</td>\n",
       "      <td>(24, 35]</td>\n",
       "      <td>0</td>\n",
       "      <td>0</td>\n",
       "    </tr>\n",
       "    <tr>\n",
       "      <th>...</th>\n",
       "      <td>...</td>\n",
       "      <td>...</td>\n",
       "      <td>...</td>\n",
       "      <td>...</td>\n",
       "      <td>...</td>\n",
       "      <td>...</td>\n",
       "      <td>...</td>\n",
       "      <td>...</td>\n",
       "      <td>...</td>\n",
       "      <td>...</td>\n",
       "      <td>...</td>\n",
       "      <td>...</td>\n",
       "      <td>...</td>\n",
       "      <td>...</td>\n",
       "      <td>...</td>\n",
       "      <td>...</td>\n",
       "      <td>...</td>\n",
       "      <td>...</td>\n",
       "      <td>...</td>\n",
       "      <td>...</td>\n",
       "      <td>...</td>\n",
       "    </tr>\n",
       "    <tr>\n",
       "      <th>918</th>\n",
       "      <td>33B208</td>\n",
       "      <td>ED74CD</td>\n",
       "      <td>ED5D01</td>\n",
       "      <td>94.49</td>\n",
       "      <td>2018-10-02 15:56:49.687</td>\n",
       "      <td>2018-10-02 15:56:50.077</td>\n",
       "      <td>628</td>\n",
       "      <td>35</td>\n",
       "      <td>11236</td>\n",
       "      <td>11236</td>\n",
       "      <td>...</td>\n",
       "      <td>1.0</td>\n",
       "      <td>1.0</td>\n",
       "      <td>4.0</td>\n",
       "      <td>Non Defaulter</td>\n",
       "      <td>0</td>\n",
       "      <td>True</td>\n",
       "      <td>(600, 650]</td>\n",
       "      <td>(24, 35]</td>\n",
       "      <td>12</td>\n",
       "      <td>0</td>\n",
       "    </tr>\n",
       "    <tr>\n",
       "      <th>8949</th>\n",
       "      <td>03CF53</td>\n",
       "      <td>35B42F</td>\n",
       "      <td>6F498E</td>\n",
       "      <td>137.09</td>\n",
       "      <td>2018-10-07 06:40:20.700</td>\n",
       "      <td>2018-10-07 06:40:21.147</td>\n",
       "      <td>731</td>\n",
       "      <td>19</td>\n",
       "      <td>11236</td>\n",
       "      <td>13408</td>\n",
       "      <td>...</td>\n",
       "      <td>0.0</td>\n",
       "      <td>0.0</td>\n",
       "      <td>2.0</td>\n",
       "      <td>Defaulter</td>\n",
       "      <td>1</td>\n",
       "      <td>False</td>\n",
       "      <td>(700, 750]</td>\n",
       "      <td>(18, 24]</td>\n",
       "      <td>13</td>\n",
       "      <td>1</td>\n",
       "    </tr>\n",
       "    <tr>\n",
       "      <th>5786</th>\n",
       "      <td>2E7ACE</td>\n",
       "      <td>B197FF</td>\n",
       "      <td>ED5D01</td>\n",
       "      <td>76.50</td>\n",
       "      <td>2018-10-07 16:42:48.813</td>\n",
       "      <td>2018-10-07 16:42:49.203</td>\n",
       "      <td>675</td>\n",
       "      <td>49</td>\n",
       "      <td>11236</td>\n",
       "      <td>11236</td>\n",
       "      <td>...</td>\n",
       "      <td>1.0</td>\n",
       "      <td>1.0</td>\n",
       "      <td>4.0</td>\n",
       "      <td>Non Defaulter</td>\n",
       "      <td>0</td>\n",
       "      <td>True</td>\n",
       "      <td>(650, 700]</td>\n",
       "      <td>(45, 60]</td>\n",
       "      <td>14</td>\n",
       "      <td>1</td>\n",
       "    </tr>\n",
       "    <tr>\n",
       "      <th>1512</th>\n",
       "      <td>B80F47</td>\n",
       "      <td>B52EFE</td>\n",
       "      <td>C37828</td>\n",
       "      <td>76.16</td>\n",
       "      <td>2018-10-07 23:17:32.497</td>\n",
       "      <td>2018-10-07 23:17:33.483</td>\n",
       "      <td>670</td>\n",
       "      <td>22</td>\n",
       "      <td>11236</td>\n",
       "      <td>11236</td>\n",
       "      <td>...</td>\n",
       "      <td>1.0</td>\n",
       "      <td>1.0</td>\n",
       "      <td>4.0</td>\n",
       "      <td>Non Defaulter</td>\n",
       "      <td>0</td>\n",
       "      <td>True</td>\n",
       "      <td>(650, 700]</td>\n",
       "      <td>(18, 24]</td>\n",
       "      <td>15</td>\n",
       "      <td>1</td>\n",
       "    </tr>\n",
       "    <tr>\n",
       "      <th>2288</th>\n",
       "      <td>2E7369</td>\n",
       "      <td>E10936</td>\n",
       "      <td>6B6FAC</td>\n",
       "      <td>72.40</td>\n",
       "      <td>2018-10-08 01:17:50.047</td>\n",
       "      <td>2018-10-08 01:17:50.343</td>\n",
       "      <td>616</td>\n",
       "      <td>20</td>\n",
       "      <td>11236</td>\n",
       "      <td>11236</td>\n",
       "      <td>...</td>\n",
       "      <td>1.0</td>\n",
       "      <td>1.0</td>\n",
       "      <td>4.0</td>\n",
       "      <td>Non Defaulter</td>\n",
       "      <td>0</td>\n",
       "      <td>True</td>\n",
       "      <td>(600, 650]</td>\n",
       "      <td>(18, 24]</td>\n",
       "      <td>16</td>\n",
       "      <td>1</td>\n",
       "    </tr>\n",
       "  </tbody>\n",
       "</table>\n",
       "<p>9386 rows × 22 columns</p>\n",
       "</div>"
      ],
      "text/plain": [
       "     order_id customer_id merchant_id  order_amount     checkout_started_at  \\\n",
       "4420   B00C24      CDF79B      E3FFE5         71.97 2018-09-08 22:04:36.177   \n",
       "5197   649834      1F94E3      C37828         74.90 2018-09-26 23:32:01.907   \n",
       "5195   F59229      DD2788      32BC4E        305.00 2018-10-02 00:08:31.770   \n",
       "5194   8CF6C3      560876      05BCA0         75.00 2018-10-09 01:42:54.360   \n",
       "5191   F2DDBA       40449      767C9E        115.00 2018-09-10 22:27:37.583   \n",
       "...       ...         ...         ...           ...                     ...   \n",
       "918    33B208      ED74CD      ED5D01         94.49 2018-10-02 15:56:49.687   \n",
       "8949   03CF53      35B42F      6F498E        137.09 2018-10-07 06:40:20.700   \n",
       "5786   2E7ACE      B197FF      ED5D01         76.50 2018-10-07 16:42:48.813   \n",
       "1512   B80F47      B52EFE      C37828         76.16 2018-10-07 23:17:32.497   \n",
       "2288   2E7369      E10936      6B6FAC         72.40 2018-10-08 01:17:50.047   \n",
       "\n",
       "     credit_decision_started_at  customer_credit_score  customer_age  \\\n",
       "4420    2018-09-08 22:04:37.647                    495            47   \n",
       "5197    2018-09-26 23:32:03.453                    740            30   \n",
       "5195    2018-10-02 00:08:32.130                    583            37   \n",
       "5194    2018-10-09 01:42:54.783                    627            66   \n",
       "5191    2018-09-10 22:27:38.583                    574            26   \n",
       "...                         ...                    ...           ...   \n",
       "918     2018-10-02 15:56:50.077                    628            35   \n",
       "8949    2018-10-07 06:40:21.147                    731            19   \n",
       "5786    2018-10-07 16:42:49.203                    675            49   \n",
       "1512    2018-10-07 23:17:33.483                    670            22   \n",
       "2288    2018-10-08 01:17:50.343                    616            20   \n",
       "\n",
       "     customer_billing_zip customer_shipping_zip  ...  paid_installment_3  \\\n",
       "4420                97078                 97078  ...                 1.0   \n",
       "5197                93536                 96818  ...                 1.0   \n",
       "5195                44691                 44691  ...                 1.0   \n",
       "5194                18966                 18966  ...                 1.0   \n",
       "5191                46220                 46220  ...                 1.0   \n",
       "...                   ...                   ...  ...                 ...   \n",
       "918                 11236                 11236  ...                 1.0   \n",
       "8949                11236                 13408  ...                 0.0   \n",
       "5786                11236                 11236  ...                 1.0   \n",
       "1512                11236                 11236  ...                 1.0   \n",
       "2288                11236                 11236  ...                 1.0   \n",
       "\n",
       "      paid_installment_4  Defaulter_check      Defaulter  Defaulter_Target  \\\n",
       "4420                 1.0              4.0  Non Defaulter                 0   \n",
       "5197                 1.0              4.0  Non Defaulter                 0   \n",
       "5195                 1.0              4.0  Non Defaulter                 0   \n",
       "5194                 1.0              4.0  Non Defaulter                 0   \n",
       "5191                 1.0              4.0  Non Defaulter                 0   \n",
       "...                  ...              ...            ...               ...   \n",
       "918                  1.0              4.0  Non Defaulter                 0   \n",
       "8949                 0.0              2.0      Defaulter                 1   \n",
       "5786                 1.0              4.0  Non Defaulter                 0   \n",
       "1512                 1.0              4.0  Non Defaulter                 0   \n",
       "2288                 1.0              4.0  Non Defaulter                 0   \n",
       "\n",
       "     Address_similarity  credit_binned  customer_age_bins Past_cases_zip  \\\n",
       "4420               True     (400, 500]           (45, 60]              0   \n",
       "5197              False     (700, 750]           (24, 35]              0   \n",
       "5195               True     (550, 600]           (35, 45]              0   \n",
       "5194               True     (600, 650]           (60, 70]              0   \n",
       "5191               True     (550, 600]           (24, 35]              0   \n",
       "...                 ...            ...                ...            ...   \n",
       "918                True     (600, 650]           (24, 35]             12   \n",
       "8949              False     (700, 750]           (18, 24]             13   \n",
       "5786               True     (650, 700]           (45, 60]             14   \n",
       "1512               True     (650, 700]           (18, 24]             15   \n",
       "2288               True     (600, 650]           (18, 24]             16   \n",
       "\n",
       "     Past_defaults_zip  \n",
       "4420                 0  \n",
       "5197                 0  \n",
       "5195                 0  \n",
       "5194                 0  \n",
       "5191                 0  \n",
       "...                ...  \n",
       "918                  0  \n",
       "8949                 1  \n",
       "5786                 1  \n",
       "1512                 1  \n",
       "2288                 1  \n",
       "\n",
       "[9386 rows x 22 columns]"
      ]
     },
     "execution_count": 106,
     "metadata": {},
     "output_type": "execute_result"
    }
   ],
   "source": [
    "orders.sort_values('Past_cases_zip')"
   ]
  },
  {
   "cell_type": "markdown",
   "metadata": {},
   "source": [
    "## CustomerId_Importance"
   ]
  },
  {
   "cell_type": "code",
   "execution_count": 109,
   "metadata": {},
   "outputs": [],
   "source": [
    "cust_data=orders[['customer_id','credit_decision_started_at','Defaulter_Target']]\n",
    "cust_data=cust_data.assign(Counter=1)\n",
    "\n",
    "cust_data=cust_data.groupby(['customer_id','credit_decision_started_at']).sum().groupby('customer_id').cumsum()[['Defaulter_Target','Counter']].reset_index()\n",
    "\n",
    "cust_data['Past_cases_cust']=cust_data['Counter']-1\n",
    "cust_data['Past_defaults_cust']=np.where(cust_data['Defaulter_Target']==0,0,cust_data['Defaulter_Target']-1)\n",
    "cust_data=cust_data[['customer_id', 'credit_decision_started_at', 'Past_cases_cust', 'Past_defaults_cust']]\n",
    "orders=pd.merge(orders,cust_data,on=['customer_id','credit_decision_started_at'],how='left')"
   ]
  },
  {
   "cell_type": "markdown",
   "metadata": {},
   "source": [
    "## Merchant_Id_Importance"
   ]
  },
  {
   "cell_type": "code",
   "execution_count": 110,
   "metadata": {},
   "outputs": [],
   "source": [
    "merch_data=orders[['merchant_id','credit_decision_started_at','Defaulter_Target']]\n",
    "merch_data=merch_data.assign(Counter=1)\n",
    "\n",
    "merch_data=merch_data.groupby(['merchant_id','credit_decision_started_at']).sum().groupby('merchant_id').cumsum()[['Defaulter_Target','Counter']].reset_index()\n",
    "\n"
   ]
  },
  {
   "cell_type": "code",
   "execution_count": 111,
   "metadata": {},
   "outputs": [
    {
     "data": {
      "text/html": [
       "<div>\n",
       "<style scoped>\n",
       "    .dataframe tbody tr th:only-of-type {\n",
       "        vertical-align: middle;\n",
       "    }\n",
       "\n",
       "    .dataframe tbody tr th {\n",
       "        vertical-align: top;\n",
       "    }\n",
       "\n",
       "    .dataframe thead th {\n",
       "        text-align: right;\n",
       "    }\n",
       "</style>\n",
       "<table border=\"1\" class=\"dataframe\">\n",
       "  <thead>\n",
       "    <tr style=\"text-align: right;\">\n",
       "      <th></th>\n",
       "      <th>merchant_id</th>\n",
       "      <th>credit_decision_started_at</th>\n",
       "      <th>Defaulter_Target</th>\n",
       "      <th>Counter</th>\n",
       "    </tr>\n",
       "  </thead>\n",
       "  <tbody>\n",
       "    <tr>\n",
       "      <th>0</th>\n",
       "      <td>01B43C</td>\n",
       "      <td>2018-09-10 00:38:22.220</td>\n",
       "      <td>0</td>\n",
       "      <td>1</td>\n",
       "    </tr>\n",
       "    <tr>\n",
       "      <th>1</th>\n",
       "      <td>01B43C</td>\n",
       "      <td>2018-09-11 20:00:35.573</td>\n",
       "      <td>0</td>\n",
       "      <td>2</td>\n",
       "    </tr>\n",
       "    <tr>\n",
       "      <th>2</th>\n",
       "      <td>01B43C</td>\n",
       "      <td>2018-09-14 01:50:00.457</td>\n",
       "      <td>0</td>\n",
       "      <td>3</td>\n",
       "    </tr>\n",
       "    <tr>\n",
       "      <th>3</th>\n",
       "      <td>01C9EC</td>\n",
       "      <td>2018-08-28 23:34:40.730</td>\n",
       "      <td>0</td>\n",
       "      <td>1</td>\n",
       "    </tr>\n",
       "    <tr>\n",
       "      <th>4</th>\n",
       "      <td>01C9EC</td>\n",
       "      <td>2018-09-13 17:42:07.237</td>\n",
       "      <td>0</td>\n",
       "      <td>2</td>\n",
       "    </tr>\n",
       "    <tr>\n",
       "      <th>...</th>\n",
       "      <td>...</td>\n",
       "      <td>...</td>\n",
       "      <td>...</td>\n",
       "      <td>...</td>\n",
       "    </tr>\n",
       "    <tr>\n",
       "      <th>7725</th>\n",
       "      <td>C37828</td>\n",
       "      <td>2018-10-13 06:08:26.900</td>\n",
       "      <td>124</td>\n",
       "      <td>1173</td>\n",
       "    </tr>\n",
       "    <tr>\n",
       "      <th>7726</th>\n",
       "      <td>C37828</td>\n",
       "      <td>2018-10-13 16:03:05.667</td>\n",
       "      <td>124</td>\n",
       "      <td>1174</td>\n",
       "    </tr>\n",
       "    <tr>\n",
       "      <th>7727</th>\n",
       "      <td>C37828</td>\n",
       "      <td>2018-10-14 04:14:36.377</td>\n",
       "      <td>124</td>\n",
       "      <td>1175</td>\n",
       "    </tr>\n",
       "    <tr>\n",
       "      <th>7728</th>\n",
       "      <td>C37828</td>\n",
       "      <td>2018-10-14 04:14:57.060</td>\n",
       "      <td>124</td>\n",
       "      <td>1176</td>\n",
       "    </tr>\n",
       "    <tr>\n",
       "      <th>7729</th>\n",
       "      <td>C37828</td>\n",
       "      <td>2018-10-14 05:10:12.760</td>\n",
       "      <td>124</td>\n",
       "      <td>1177</td>\n",
       "    </tr>\n",
       "  </tbody>\n",
       "</table>\n",
       "<p>9382 rows × 4 columns</p>\n",
       "</div>"
      ],
      "text/plain": [
       "     merchant_id credit_decision_started_at  Defaulter_Target  Counter\n",
       "0         01B43C    2018-09-10 00:38:22.220                 0        1\n",
       "1         01B43C    2018-09-11 20:00:35.573                 0        2\n",
       "2         01B43C    2018-09-14 01:50:00.457                 0        3\n",
       "3         01C9EC    2018-08-28 23:34:40.730                 0        1\n",
       "4         01C9EC    2018-09-13 17:42:07.237                 0        2\n",
       "...          ...                        ...               ...      ...\n",
       "7725      C37828    2018-10-13 06:08:26.900               124     1173\n",
       "7726      C37828    2018-10-13 16:03:05.667               124     1174\n",
       "7727      C37828    2018-10-14 04:14:36.377               124     1175\n",
       "7728      C37828    2018-10-14 04:14:57.060               124     1176\n",
       "7729      C37828    2018-10-14 05:10:12.760               124     1177\n",
       "\n",
       "[9382 rows x 4 columns]"
      ]
     },
     "execution_count": 111,
     "metadata": {},
     "output_type": "execute_result"
    }
   ],
   "source": [
    "merch_data.sort_values(['Defaulter_Target','merchant_id'])"
   ]
  },
  {
   "cell_type": "code",
   "execution_count": 112,
   "metadata": {},
   "outputs": [],
   "source": [
    "merch_data['Past_cases_merch']=merch_data['Counter']-1"
   ]
  },
  {
   "cell_type": "code",
   "execution_count": 113,
   "metadata": {},
   "outputs": [],
   "source": [
    "\n",
    "merch_data['Past_defaults_merch']=np.where(merch_data['Defaulter_Target']==0,0,merch_data['Defaulter_Target']-1)"
   ]
  },
  {
   "cell_type": "code",
   "execution_count": 114,
   "metadata": {},
   "outputs": [
    {
     "data": {
      "text/html": [
       "<div>\n",
       "<style scoped>\n",
       "    .dataframe tbody tr th:only-of-type {\n",
       "        vertical-align: middle;\n",
       "    }\n",
       "\n",
       "    .dataframe tbody tr th {\n",
       "        vertical-align: top;\n",
       "    }\n",
       "\n",
       "    .dataframe thead th {\n",
       "        text-align: right;\n",
       "    }\n",
       "</style>\n",
       "<table border=\"1\" class=\"dataframe\">\n",
       "  <thead>\n",
       "    <tr style=\"text-align: right;\">\n",
       "      <th></th>\n",
       "      <th>merchant_id</th>\n",
       "      <th>credit_decision_started_at</th>\n",
       "      <th>Defaulter_Target</th>\n",
       "      <th>Counter</th>\n",
       "      <th>Past_cases_merch</th>\n",
       "      <th>Past_defaults_merch</th>\n",
       "    </tr>\n",
       "  </thead>\n",
       "  <tbody>\n",
       "    <tr>\n",
       "      <th>0</th>\n",
       "      <td>01B43C</td>\n",
       "      <td>2018-09-10 00:38:22.220</td>\n",
       "      <td>0</td>\n",
       "      <td>1</td>\n",
       "      <td>0</td>\n",
       "      <td>0</td>\n",
       "    </tr>\n",
       "    <tr>\n",
       "      <th>2943</th>\n",
       "      <td>6A6BC6</td>\n",
       "      <td>2018-08-30 12:54:13.100</td>\n",
       "      <td>0</td>\n",
       "      <td>2</td>\n",
       "      <td>1</td>\n",
       "      <td>0</td>\n",
       "    </tr>\n",
       "    <tr>\n",
       "      <th>2942</th>\n",
       "      <td>6A6BC6</td>\n",
       "      <td>2018-08-30 10:57:09.683</td>\n",
       "      <td>0</td>\n",
       "      <td>1</td>\n",
       "      <td>0</td>\n",
       "      <td>0</td>\n",
       "    </tr>\n",
       "    <tr>\n",
       "      <th>2832</th>\n",
       "      <td>65719E</td>\n",
       "      <td>2018-10-12 01:53:34.127</td>\n",
       "      <td>0</td>\n",
       "      <td>23</td>\n",
       "      <td>22</td>\n",
       "      <td>0</td>\n",
       "    </tr>\n",
       "    <tr>\n",
       "      <th>2831</th>\n",
       "      <td>65719E</td>\n",
       "      <td>2018-10-08 05:11:56.563</td>\n",
       "      <td>0</td>\n",
       "      <td>22</td>\n",
       "      <td>21</td>\n",
       "      <td>0</td>\n",
       "    </tr>\n",
       "    <tr>\n",
       "      <th>...</th>\n",
       "      <td>...</td>\n",
       "      <td>...</td>\n",
       "      <td>...</td>\n",
       "      <td>...</td>\n",
       "      <td>...</td>\n",
       "      <td>...</td>\n",
       "    </tr>\n",
       "    <tr>\n",
       "      <th>7723</th>\n",
       "      <td>C37828</td>\n",
       "      <td>2018-10-13 05:52:38.000</td>\n",
       "      <td>124</td>\n",
       "      <td>1171</td>\n",
       "      <td>1170</td>\n",
       "      <td>123</td>\n",
       "    </tr>\n",
       "    <tr>\n",
       "      <th>7722</th>\n",
       "      <td>C37828</td>\n",
       "      <td>2018-10-13 02:37:13.773</td>\n",
       "      <td>124</td>\n",
       "      <td>1170</td>\n",
       "      <td>1169</td>\n",
       "      <td>123</td>\n",
       "    </tr>\n",
       "    <tr>\n",
       "      <th>7721</th>\n",
       "      <td>C37828</td>\n",
       "      <td>2018-10-13 01:43:45.513</td>\n",
       "      <td>124</td>\n",
       "      <td>1169</td>\n",
       "      <td>1168</td>\n",
       "      <td>123</td>\n",
       "    </tr>\n",
       "    <tr>\n",
       "      <th>7727</th>\n",
       "      <td>C37828</td>\n",
       "      <td>2018-10-14 04:14:36.377</td>\n",
       "      <td>124</td>\n",
       "      <td>1175</td>\n",
       "      <td>1174</td>\n",
       "      <td>123</td>\n",
       "    </tr>\n",
       "    <tr>\n",
       "      <th>4154</th>\n",
       "      <td>6F498E</td>\n",
       "      <td>2018-10-14 01:15:07.513</td>\n",
       "      <td>124</td>\n",
       "      <td>841</td>\n",
       "      <td>840</td>\n",
       "      <td>123</td>\n",
       "    </tr>\n",
       "  </tbody>\n",
       "</table>\n",
       "<p>9382 rows × 6 columns</p>\n",
       "</div>"
      ],
      "text/plain": [
       "     merchant_id credit_decision_started_at  Defaulter_Target  Counter  \\\n",
       "0         01B43C    2018-09-10 00:38:22.220                 0        1   \n",
       "2943      6A6BC6    2018-08-30 12:54:13.100                 0        2   \n",
       "2942      6A6BC6    2018-08-30 10:57:09.683                 0        1   \n",
       "2832      65719E    2018-10-12 01:53:34.127                 0       23   \n",
       "2831      65719E    2018-10-08 05:11:56.563                 0       22   \n",
       "...          ...                        ...               ...      ...   \n",
       "7723      C37828    2018-10-13 05:52:38.000               124     1171   \n",
       "7722      C37828    2018-10-13 02:37:13.773               124     1170   \n",
       "7721      C37828    2018-10-13 01:43:45.513               124     1169   \n",
       "7727      C37828    2018-10-14 04:14:36.377               124     1175   \n",
       "4154      6F498E    2018-10-14 01:15:07.513               124      841   \n",
       "\n",
       "      Past_cases_merch  Past_defaults_merch  \n",
       "0                    0                    0  \n",
       "2943                 1                    0  \n",
       "2942                 0                    0  \n",
       "2832                22                    0  \n",
       "2831                21                    0  \n",
       "...                ...                  ...  \n",
       "7723              1170                  123  \n",
       "7722              1169                  123  \n",
       "7721              1168                  123  \n",
       "7727              1174                  123  \n",
       "4154               840                  123  \n",
       "\n",
       "[9382 rows x 6 columns]"
      ]
     },
     "execution_count": 114,
     "metadata": {},
     "output_type": "execute_result"
    }
   ],
   "source": [
    "merch_data.sort_values('Defaulter_Target')"
   ]
  },
  {
   "cell_type": "code",
   "execution_count": 115,
   "metadata": {},
   "outputs": [],
   "source": [
    "\n",
    "merch_data=merch_data[['merchant_id', 'credit_decision_started_at', 'Past_cases_merch', 'Past_defaults_merch']]\n",
    "orders=pd.merge(orders,merch_data,on=['merchant_id','credit_decision_started_at'],how='left')"
   ]
  },
  {
   "cell_type": "code",
   "execution_count": null,
   "metadata": {},
   "outputs": [],
   "source": []
  },
  {
   "cell_type": "code",
   "execution_count": null,
   "metadata": {},
   "outputs": [],
   "source": []
  },
  {
   "cell_type": "code",
   "execution_count": 116,
   "metadata": {},
   "outputs": [
    {
     "data": {
      "text/html": [
       "<div>\n",
       "<style scoped>\n",
       "    .dataframe tbody tr th:only-of-type {\n",
       "        vertical-align: middle;\n",
       "    }\n",
       "\n",
       "    .dataframe tbody tr th {\n",
       "        vertical-align: top;\n",
       "    }\n",
       "\n",
       "    .dataframe thead th {\n",
       "        text-align: right;\n",
       "    }\n",
       "</style>\n",
       "<table border=\"1\" class=\"dataframe\">\n",
       "  <thead>\n",
       "    <tr style=\"text-align: right;\">\n",
       "      <th></th>\n",
       "      <th>merchant_id</th>\n",
       "      <th>credit_decision_started_at</th>\n",
       "      <th>Past_cases_merch</th>\n",
       "      <th>Past_defaults_merch</th>\n",
       "    </tr>\n",
       "  </thead>\n",
       "  <tbody>\n",
       "    <tr>\n",
       "      <th>0</th>\n",
       "      <td>01B43C</td>\n",
       "      <td>2018-09-10 00:38:22.220</td>\n",
       "      <td>0</td>\n",
       "      <td>0</td>\n",
       "    </tr>\n",
       "    <tr>\n",
       "      <th>1</th>\n",
       "      <td>01B43C</td>\n",
       "      <td>2018-09-11 20:00:35.573</td>\n",
       "      <td>1</td>\n",
       "      <td>0</td>\n",
       "    </tr>\n",
       "    <tr>\n",
       "      <th>2</th>\n",
       "      <td>01B43C</td>\n",
       "      <td>2018-09-14 01:50:00.457</td>\n",
       "      <td>2</td>\n",
       "      <td>0</td>\n",
       "    </tr>\n",
       "    <tr>\n",
       "      <th>3</th>\n",
       "      <td>01C9EC</td>\n",
       "      <td>2018-08-28 23:34:40.730</td>\n",
       "      <td>0</td>\n",
       "      <td>0</td>\n",
       "    </tr>\n",
       "    <tr>\n",
       "      <th>4</th>\n",
       "      <td>01C9EC</td>\n",
       "      <td>2018-09-13 17:42:07.237</td>\n",
       "      <td>1</td>\n",
       "      <td>0</td>\n",
       "    </tr>\n",
       "    <tr>\n",
       "      <th>...</th>\n",
       "      <td>...</td>\n",
       "      <td>...</td>\n",
       "      <td>...</td>\n",
       "      <td>...</td>\n",
       "    </tr>\n",
       "    <tr>\n",
       "      <th>9377</th>\n",
       "      <td>FED86E</td>\n",
       "      <td>2018-09-23 23:58:54.770</td>\n",
       "      <td>3</td>\n",
       "      <td>0</td>\n",
       "    </tr>\n",
       "    <tr>\n",
       "      <th>9378</th>\n",
       "      <td>FED86E</td>\n",
       "      <td>2018-09-24 03:10:10.537</td>\n",
       "      <td>4</td>\n",
       "      <td>0</td>\n",
       "    </tr>\n",
       "    <tr>\n",
       "      <th>9379</th>\n",
       "      <td>FED86E</td>\n",
       "      <td>2018-09-29 00:21:08.743</td>\n",
       "      <td>5</td>\n",
       "      <td>0</td>\n",
       "    </tr>\n",
       "    <tr>\n",
       "      <th>9380</th>\n",
       "      <td>FED86E</td>\n",
       "      <td>2018-09-29 17:23:40.310</td>\n",
       "      <td>6</td>\n",
       "      <td>0</td>\n",
       "    </tr>\n",
       "    <tr>\n",
       "      <th>9381</th>\n",
       "      <td>FED86E</td>\n",
       "      <td>2018-10-07 17:19:35.917</td>\n",
       "      <td>7</td>\n",
       "      <td>0</td>\n",
       "    </tr>\n",
       "  </tbody>\n",
       "</table>\n",
       "<p>9382 rows × 4 columns</p>\n",
       "</div>"
      ],
      "text/plain": [
       "     merchant_id credit_decision_started_at  Past_cases_merch  \\\n",
       "0         01B43C    2018-09-10 00:38:22.220                 0   \n",
       "1         01B43C    2018-09-11 20:00:35.573                 1   \n",
       "2         01B43C    2018-09-14 01:50:00.457                 2   \n",
       "3         01C9EC    2018-08-28 23:34:40.730                 0   \n",
       "4         01C9EC    2018-09-13 17:42:07.237                 1   \n",
       "...          ...                        ...               ...   \n",
       "9377      FED86E    2018-09-23 23:58:54.770                 3   \n",
       "9378      FED86E    2018-09-24 03:10:10.537                 4   \n",
       "9379      FED86E    2018-09-29 00:21:08.743                 5   \n",
       "9380      FED86E    2018-09-29 17:23:40.310                 6   \n",
       "9381      FED86E    2018-10-07 17:19:35.917                 7   \n",
       "\n",
       "      Past_defaults_merch  \n",
       "0                       0  \n",
       "1                       0  \n",
       "2                       0  \n",
       "3                       0  \n",
       "4                       0  \n",
       "...                   ...  \n",
       "9377                    0  \n",
       "9378                    0  \n",
       "9379                    0  \n",
       "9380                    0  \n",
       "9381                    0  \n",
       "\n",
       "[9382 rows x 4 columns]"
      ]
     },
     "execution_count": 116,
     "metadata": {},
     "output_type": "execute_result"
    }
   ],
   "source": [
    "merch_data"
   ]
  },
  {
   "cell_type": "code",
   "execution_count": null,
   "metadata": {},
   "outputs": [],
   "source": []
  },
  {
   "cell_type": "markdown",
   "metadata": {},
   "source": [
    "## Decision Difference- MAHAFUDDU"
   ]
  },
  {
   "cell_type": "code",
   "execution_count": 117,
   "metadata": {},
   "outputs": [],
   "source": [
    "orders['Decision_difference']=orders['credit_decision_started_at']-orders['checkout_started_at']"
   ]
  },
  {
   "cell_type": "markdown",
   "metadata": {},
   "source": [
    "### Filter or remove noisy data"
   ]
  },
  {
   "cell_type": "code",
   "execution_count": 118,
   "metadata": {},
   "outputs": [
    {
     "name": "stdout",
     "output_type": "stream",
     "text": [
      "2018-10-14 23:50:03.233000\n",
      "2018-08-28 20:48:08.970000\n"
     ]
    }
   ],
   "source": [
    "print(orders.checkout_started_at.max())\n",
    "print(orders.checkout_started_at.min())\n",
    "\n",
    "##Hence almost 2 months data"
   ]
  },
  {
   "cell_type": "markdown",
   "metadata": {},
   "source": [
    "## Keeping a copy after eda"
   ]
  },
  {
   "cell_type": "code",
   "execution_count": 119,
   "metadata": {},
   "outputs": [],
   "source": [
    "orders_eda=orders.copy()"
   ]
  },
  {
   "cell_type": "code",
   "execution_count": 120,
   "metadata": {},
   "outputs": [
    {
     "data": {
      "text/plain": [
       "Index(['order_id', 'customer_id', 'merchant_id', 'order_amount',\n",
       "       'checkout_started_at', 'credit_decision_started_at',\n",
       "       'customer_credit_score', 'customer_age', 'customer_billing_zip',\n",
       "       'customer_shipping_zip', 'paid_installment_1', 'paid_installment_2',\n",
       "       'paid_installment_3', 'paid_installment_4', 'Defaulter_check',\n",
       "       'Defaulter', 'Defaulter_Target', 'Address_similarity', 'credit_binned',\n",
       "       'customer_age_bins', 'Past_cases_zip', 'Past_defaults_zip',\n",
       "       'Past_cases_cust', 'Past_defaults_cust', 'Past_cases_merch',\n",
       "       'Past_defaults_merch', 'Decision_difference'],\n",
       "      dtype='object')"
      ]
     },
     "execution_count": 120,
     "metadata": {},
     "output_type": "execute_result"
    }
   ],
   "source": [
    "orders_eda.columns"
   ]
  },
  {
   "cell_type": "code",
   "execution_count": 121,
   "metadata": {},
   "outputs": [],
   "source": [
    "orders_eda=orders_eda[['order_id', 'customer_id', 'merchant_id','order_amount', 'credit_decision_started_at',\n",
    "       'customer_credit_score', 'customer_age', 'customer_billing_zip',\n",
    "       'customer_shipping_zip','Address_similarity', 'credit_binned',\n",
    "       'customer_age_bins', 'Past_cases_zip', 'Past_defaults_zip',\n",
    "       'Past_cases_cust', 'Past_defaults_cust', 'Past_cases_merch',\n",
    "       'Past_defaults_merch', 'Decision_difference','Defaulter_Target']]"
   ]
  },
  {
   "cell_type": "markdown",
   "metadata": {},
   "source": [
    "## Plots and Analysis"
   ]
  },
  {
   "cell_type": "markdown",
   "metadata": {},
   "source": [
    "## Age & Defaulter"
   ]
  },
  {
   "cell_type": "code",
   "execution_count": 122,
   "metadata": {},
   "outputs": [
    {
     "name": "stderr",
     "output_type": "stream",
     "text": [
      "/Users/rishabhmalhotra/opt/anaconda3/lib/python3.8/site-packages/seaborn/_decorators.py:36: FutureWarning: Pass the following variable as a keyword arg: x. From version 0.12, the only valid positional argument will be `data`, and passing other arguments without an explicit keyword will result in an error or misinterpretation.\n",
      "  warnings.warn(\n"
     ]
    },
    {
     "data": {
      "image/png": "[encoded data removed]",
      "text/plain": [
       "<Figure size 576x432 with 1 Axes>"
      ]
     },
     "metadata": {
      "needs_background": "light"
     },
     "output_type": "display_data"
    }
   ],
   "source": [
    "plt.figure(figsize=(8,6))\n",
    "sns.countplot(orders_eda['Defaulter_Target'],hue=orders_eda['customer_age_bins'])\n",
    "plt.show()"
   ]
  },
  {
   "cell_type": "markdown",
   "metadata": {},
   "source": [
    "## Defaulter and Credit"
   ]
  },
  {
   "cell_type": "code",
   "execution_count": 123,
   "metadata": {},
   "outputs": [
    {
     "name": "stderr",
     "output_type": "stream",
     "text": [
      "/Users/rishabhmalhotra/opt/anaconda3/lib/python3.8/site-packages/seaborn/_decorators.py:36: FutureWarning: Pass the following variable as a keyword arg: x. From version 0.12, the only valid positional argument will be `data`, and passing other arguments without an explicit keyword will result in an error or misinterpretation.\n",
      "  warnings.warn(\n"
     ]
    },
    {
     "data": {
      "image/png": "[encoded data removed]",
      "text/plain": [
       "<Figure size 576x432 with 1 Axes>"
      ]
     },
     "metadata": {
      "needs_background": "light"
     },
     "output_type": "display_data"
    }
   ],
   "source": [
    "plt.figure(figsize=(8,6))\n",
    "sns.countplot(orders_eda['Defaulter_Target'],hue=orders_eda['credit_binned'])\n",
    "plt.show()"
   ]
  },
  {
   "cell_type": "markdown",
   "metadata": {},
   "source": [
    "## BOX PLOTS"
   ]
  },
  {
   "cell_type": "markdown",
   "metadata": {},
   "source": [
    "## Defaulter & Order_Amount"
   ]
  },
  {
   "cell_type": "code",
   "execution_count": 124,
   "metadata": {},
   "outputs": [
    {
     "data": {
      "image/png": "[encoded data removed]",
      "text/plain": [
       "<Figure size 576x432 with 1 Axes>"
      ]
     },
     "metadata": {
      "needs_background": "light"
     },
     "output_type": "display_data"
    }
   ],
   "source": [
    "plt.figure(figsize=(8,6))\n",
    "sns.boxplot(y=orders_eda['order_amount'],x=orders_eda['Defaulter_Target'], palette=[\"m\", \"g\"])\n",
    "plt.show()"
   ]
  },
  {
   "cell_type": "markdown",
   "metadata": {},
   "source": [
    "## Age, Score and Defaulter"
   ]
  },
  {
   "cell_type": "code",
   "execution_count": 125,
   "metadata": {},
   "outputs": [
    {
     "data": {
      "image/png": "[encoded data removed]",
      "text/plain": [
       "<Figure size 576x432 with 1 Axes>"
      ]
     },
     "metadata": {
      "needs_background": "light"
     },
     "output_type": "display_data"
    }
   ],
   "source": [
    "plt.figure(figsize=(8,6))\n",
    "sns.boxplot(x=orders_eda['customer_age_bins'], y=orders_eda['customer_credit_score'],\n",
    "            hue=orders_eda['Defaulter_Target'], palette=[\"m\", \"g\"])\n",
    "plt.show()"
   ]
  },
  {
   "cell_type": "markdown",
   "metadata": {},
   "source": [
    "**Can remove some outliers using the above graph.**"
   ]
  },
  {
   "cell_type": "markdown",
   "metadata": {},
   "source": [
    "## Defaulter & Age"
   ]
  },
  {
   "cell_type": "code",
   "execution_count": 126,
   "metadata": {},
   "outputs": [
    {
     "data": {
      "text/plain": [
       "Defaulter_Target\n",
       "0    33.745442\n",
       "1    31.512782\n",
       "Name: customer_age, dtype: float64"
      ]
     },
     "execution_count": 126,
     "metadata": {},
     "output_type": "execute_result"
    }
   ],
   "source": [
    "orders_eda.groupby('Defaulter_Target')['customer_age'].mean()"
   ]
  },
  {
   "cell_type": "code",
   "execution_count": 127,
   "metadata": {},
   "outputs": [],
   "source": [
    "EDA_profile = ProfileReport(orders_eda, title=\"Quadpay-EDA Profiling Report\",explorative=True)"
   ]
  },
  {
   "cell_type": "markdown",
   "metadata": {},
   "source": [
    "## PREDICTIVE MODELLING"
   ]
  },
  {
   "cell_type": "markdown",
   "metadata": {},
   "source": [
    "### Filter needed data"
   ]
  },
  {
   "cell_type": "markdown",
   "metadata": {},
   "source": [
    "## Creating final orders"
   ]
  },
  {
   "cell_type": "code",
   "execution_count": 128,
   "metadata": {},
   "outputs": [],
   "source": [
    "final_orders=orders[['order_amount', 'credit_binned','credit_decision_started_at',\n",
    "       'customer_age_bins','Past_cases_zip', 'Past_defaults_zip',\n",
    "       'Past_cases_cust', 'Past_defaults_cust', 'Past_cases_merch',\n",
    "       'Past_defaults_merch','Defaulter_Target' ]]\n",
    "#,'cust_importance''zip_importance', 'merchant_importance'"
   ]
  },
  {
   "cell_type": "code",
   "execution_count": 129,
   "metadata": {},
   "outputs": [
    {
     "name": "stderr",
     "output_type": "stream",
     "text": [
      "<ipython-input-129-58f03fa49719>:1: SettingWithCopyWarning: \n",
      "A value is trying to be set on a copy of a slice from a DataFrame.\n",
      "Try using .loc[row_indexer,col_indexer] = value instead\n",
      "\n",
      "See the caveats in the documentation: https://pandas.pydata.org/pandas-docs/stable/user_guide/indexing.html#returning-a-view-versus-a-copy\n",
      "  final_orders['credit_binned']=final_orders['credit_binned'].astype('str')\n",
      "<ipython-input-129-58f03fa49719>:2: SettingWithCopyWarning: \n",
      "A value is trying to be set on a copy of a slice from a DataFrame.\n",
      "Try using .loc[row_indexer,col_indexer] = value instead\n",
      "\n",
      "See the caveats in the documentation: https://pandas.pydata.org/pandas-docs/stable/user_guide/indexing.html#returning-a-view-versus-a-copy\n",
      "  final_orders['customer_age_bins']=final_orders['customer_age_bins'].astype('str')\n"
     ]
    }
   ],
   "source": [
    "final_orders['credit_binned']=final_orders['credit_binned'].astype('str')\n",
    "final_orders['customer_age_bins']=final_orders['customer_age_bins'].astype('str')"
   ]
  },
  {
   "cell_type": "code",
   "execution_count": 130,
   "metadata": {},
   "outputs": [],
   "source": [
    "final_orders=pd.get_dummies(final_orders,drop_first=True)"
   ]
  },
  {
   "cell_type": "markdown",
   "metadata": {},
   "source": [
    "## Check Correlation"
   ]
  },
  {
   "cell_type": "code",
   "execution_count": 132,
   "metadata": {},
   "outputs": [
    {
     "data": {
      "image/png": "[encoded data removed]",
      "text/plain": [
       "<Figure size 1440x1008 with 2 Axes>"
      ]
     },
     "metadata": {
      "needs_background": "light"
     },
     "output_type": "display_data"
    }
   ],
   "source": [
    "plt.figure(figsize=(20,14))\n",
    "sns.heatmap(final_orders.corr(),annot=True)\n",
    "plt.show()\n",
    "\n",
    "#Correlated Features After EDA\n",
    "#past defaults cust, past daults zip, credits"
   ]
  },
  {
   "cell_type": "markdown",
   "metadata": {},
   "source": [
    "## Train Test Split"
   ]
  },
  {
   "cell_type": "markdown",
   "metadata": {},
   "source": [
    "## 0=Non_Defaulter, 1=Defaulter"
   ]
  },
  {
   "cell_type": "code",
   "execution_count": 133,
   "metadata": {},
   "outputs": [
    {
     "name": "stdout",
     "output_type": "stream",
     "text": [
      "2018-10-14 23:50:03.233000\n",
      "2018-08-28 20:48:08.970000\n"
     ]
    }
   ],
   "source": [
    "print(orders.checkout_started_at.max())\n",
    "print(orders.checkout_started_at.min())\n",
    "\n",
    "##Hence almost 2 months data"
   ]
  },
  {
   "cell_type": "markdown",
   "metadata": {},
   "source": [
    "### Deciding break date"
   ]
  },
  {
   "cell_type": "code",
   "execution_count": 134,
   "metadata": {},
   "outputs": [],
   "source": [
    "break_date= pd.Timestamp('2018-10-1 00:00:00.000000')"
   ]
  },
  {
   "cell_type": "markdown",
   "metadata": {},
   "source": [
    "**As if we take a TrainTestSplit we will bring data from the future which will add bias to the data and give <br>extraordinary/almost perfect results which will be not the true case**"
   ]
  },
  {
   "cell_type": "code",
   "execution_count": 135,
   "metadata": {},
   "outputs": [],
   "source": [
    "X_train=final_orders[final_orders['credit_decision_started_at']<= break_date]\n",
    "X_test=final_orders[final_orders['credit_decision_started_at']> break_date]"
   ]
  },
  {
   "cell_type": "code",
   "execution_count": 136,
   "metadata": {},
   "outputs": [
    {
     "name": "stderr",
     "output_type": "stream",
     "text": [
      "/Users/rishabhmalhotra/opt/anaconda3/lib/python3.8/site-packages/pandas/core/frame.py:4163: SettingWithCopyWarning: \n",
      "A value is trying to be set on a copy of a slice from a DataFrame\n",
      "\n",
      "See the caveats in the documentation: https://pandas.pydata.org/pandas-docs/stable/user_guide/indexing.html#returning-a-view-versus-a-copy\n",
      "  return super().drop(\n"
     ]
    }
   ],
   "source": [
    "X_train.drop('credit_decision_started_at',axis=1,inplace=True)\n",
    "X_test.drop('credit_decision_started_at',axis=1,inplace=True)"
   ]
  },
  {
   "cell_type": "markdown",
   "metadata": {},
   "source": [
    "## Standardisation"
   ]
  },
  {
   "cell_type": "code",
   "execution_count": 137,
   "metadata": {},
   "outputs": [],
   "source": [
    "sc = StandardScaler()"
   ]
  },
  {
   "cell_type": "code",
   "execution_count": 138,
   "metadata": {},
   "outputs": [],
   "source": [
    "cols=['order_amount', 'Past_cases_zip',\n",
    "       'Past_defaults_zip', 'Past_cases_cust', 'Past_defaults_cust',\n",
    "       'Past_cases_merch', 'Past_defaults_merch', 'Defaulter_Target',\n",
    "       'credit_binned_(300.0, 400.0]', 'credit_binned_(400.0, 500.0]',\n",
    "       'credit_binned_(500.0, 550.0]', 'credit_binned_(550.0, 600.0]',\n",
    "       'credit_binned_(600.0, 650.0]', 'credit_binned_(650.0, 700.0]',\n",
    "       'credit_binned_(700.0, 750.0]', 'credit_binned_(750.0, 800.0]',\n",
    "       'credit_binned_nan', 'customer_age_bins_(18.0, 24.0]',\n",
    "       'customer_age_bins_(24.0, 35.0]', 'customer_age_bins_(35.0, 45.0]',\n",
    "       'customer_age_bins_(45.0, 60.0]', 'customer_age_bins_(60.0, 70.0]',\n",
    "       'customer_age_bins_nan']"
   ]
  },
  {
   "cell_type": "markdown",
   "metadata": {},
   "source": [
    "### CREATING TRAIN TEST SPLIT"
   ]
  },
  {
   "cell_type": "markdown",
   "metadata": {},
   "source": [
    "### Y train Y test"
   ]
  },
  {
   "cell_type": "code",
   "execution_count": 139,
   "metadata": {},
   "outputs": [],
   "source": [
    "y_train=X_train.Defaulter_Target\n",
    "y_test=X_test.Defaulter_Target"
   ]
  },
  {
   "cell_type": "code",
   "execution_count": 140,
   "metadata": {},
   "outputs": [],
   "source": [
    "X_train = pd.DataFrame(sc.fit_transform(X_train),columns=cols)\n",
    "X_test = pd.DataFrame(sc.fit_transform(X_test),columns=cols)"
   ]
  },
  {
   "cell_type": "markdown",
   "metadata": {},
   "source": [
    "#### X train X test"
   ]
  },
  {
   "cell_type": "code",
   "execution_count": 141,
   "metadata": {},
   "outputs": [],
   "source": [
    "X_train=X_train.drop(['Defaulter_Target'],axis=1)\n",
    "\n",
    "X_test=X_test.drop(['Defaulter_Target'],axis=1)"
   ]
  },
  {
   "cell_type": "markdown",
   "metadata": {},
   "source": [
    "# Logistic Regression"
   ]
  },
  {
   "cell_type": "markdown",
   "metadata": {},
   "source": [
    "### Base"
   ]
  },
  {
   "cell_type": "code",
   "execution_count": 142,
   "metadata": {},
   "outputs": [
    {
     "data": {
      "text/plain": [
       "LogisticRegression(max_iter=1000)"
      ]
     },
     "execution_count": 142,
     "metadata": {},
     "output_type": "execute_result"
    }
   ],
   "source": [
    "classifier=LogisticRegression(max_iter=1000)\n",
    "classifier.fit(X_train,y_train)"
   ]
  },
  {
   "cell_type": "code",
   "execution_count": 144,
   "metadata": {},
   "outputs": [
    {
     "data": {
      "text/plain": [
       "array([0.0465721 , 0.04900889, 0.56490226, ..., 0.01894941, 0.11795333,\n",
       "       0.04288435])"
      ]
     },
     "execution_count": 144,
     "metadata": {},
     "output_type": "execute_result"
    }
   ],
   "source": [
    "classifier.predict_proba(X_test)[:,1]"
   ]
  },
  {
   "cell_type": "code",
   "execution_count": 145,
   "metadata": {},
   "outputs": [
    {
     "name": "stdout",
     "output_type": "stream",
     "text": [
      "[[2788    2]\n",
      " [ 206   18]]\n",
      "0.9309887193098872\n",
      "              precision    recall  f1-score   support\n",
      "\n",
      "           0       0.93      1.00      0.96      2790\n",
      "           1       0.90      0.08      0.15       224\n",
      "\n",
      "    accuracy                           0.93      3014\n",
      "   macro avg       0.92      0.54      0.56      3014\n",
      "weighted avg       0.93      0.93      0.90      3014\n",
      "\n"
     ]
    }
   ],
   "source": [
    "\n",
    "\n",
    "y_pred=classifier.predict_proba(X_test)[:,1]\n",
    "roc_auc_score(y_test,y_pred)\n",
    "\n",
    "y_pred=classifier.predict(X_test)\n",
    "print(confusion_matrix(y_test,y_pred))\n",
    "print(accuracy_score(y_test,y_pred))\n",
    "print(classification_report(y_test,y_pred))"
   ]
  },
  {
   "cell_type": "markdown",
   "metadata": {},
   "source": [
    "**8% recall for 1's in the Base LR model**"
   ]
  },
  {
   "cell_type": "markdown",
   "metadata": {},
   "source": [
    "### Optimized"
   ]
  },
  {
   "cell_type": "code",
   "execution_count": 62,
   "metadata": {},
   "outputs": [
    {
     "data": {
      "text/plain": [
       "0    5931\n",
       "1     441\n",
       "Name: Defaulter_Target, dtype: int64"
      ]
     },
     "execution_count": 62,
     "metadata": {},
     "output_type": "execute_result"
    }
   ],
   "source": [
    "y_train.value_counts()"
   ]
  },
  {
   "cell_type": "code",
   "execution_count": 63,
   "metadata": {},
   "outputs": [
    {
     "name": "stdout",
     "output_type": "stream",
     "text": [
      "13.448979591836734\n"
     ]
    }
   ],
   "source": [
    "#Deciding Weights (Could also be done through gridsearch)\n",
    "print(5931/441)\n",
    "class_weight=dict({0:1,1:13})"
   ]
  },
  {
   "cell_type": "code",
   "execution_count": 64,
   "metadata": {},
   "outputs": [],
   "source": [
    "log_class=LogisticRegression(class_weight=class_weight,max_iter=10000)\n",
    "grid={'C':10.0 **np.arange(-2,3),\n",
    "      'penalty':['l2']}\n",
    "cv=KFold(n_splits=5,random_state=None,shuffle=False)"
   ]
  },
  {
   "cell_type": "code",
   "execution_count": 147,
   "metadata": {},
   "outputs": [
    {
     "data": {
      "text/plain": [
       "array([-2, -1,  0,  1,  2])"
      ]
     },
     "execution_count": 147,
     "metadata": {},
     "output_type": "execute_result"
    }
   ],
   "source": [
    "np.arange(-2,3)"
   ]
  },
  {
   "cell_type": "code",
   "execution_count": 149,
   "metadata": {},
   "outputs": [
    {
     "data": {
      "text/plain": [
       "array([1.e-02, 1.e-01, 1.e+00, 1.e+01, 1.e+02])"
      ]
     },
     "execution_count": 149,
     "metadata": {},
     "output_type": "execute_result"
    }
   ],
   "source": [
    "10.0 **np.arange(-2,3)"
   ]
  },
  {
   "cell_type": "code",
   "execution_count": 150,
   "metadata": {},
   "outputs": [
    {
     "data": {
      "text/plain": [
       "8"
      ]
     },
     "execution_count": 150,
     "metadata": {},
     "output_type": "execute_result"
    }
   ],
   "source": [
    "2**3"
   ]
  },
  {
   "cell_type": "markdown",
   "metadata": {},
   "source": [
    "### HyperparameterTuning"
   ]
  },
  {
   "cell_type": "code",
   "execution_count": 65,
   "metadata": {},
   "outputs": [
    {
     "data": {
      "text/plain": [
       "GridSearchCV(cv=KFold(n_splits=5, random_state=None, shuffle=False),\n",
       "             estimator=LogisticRegression(class_weight={0: 1, 1: 13},\n",
       "                                          max_iter=10000),\n",
       "             n_jobs=2,\n",
       "             param_grid={'C': array([1.e-02, 1.e-01, 1.e+00, 1.e+01, 1.e+02]),\n",
       "                         'penalty': ['l2']},\n",
       "             scoring='roc_auc')"
      ]
     },
     "execution_count": 65,
     "metadata": {},
     "output_type": "execute_result"
    }
   ],
   "source": [
    "clf=GridSearchCV(log_class,grid,cv=cv,n_jobs=2,scoring='roc_auc')\n",
    "clf.fit(X_train,y_train)"
   ]
  },
  {
   "cell_type": "code",
   "execution_count": 66,
   "metadata": {},
   "outputs": [
    {
     "name": "stdout",
     "output_type": "stream",
     "text": [
      "Best roc-auc 0.7902450016100481\n",
      "Best params {'C': 0.1, 'penalty': 'l2'}\n"
     ]
    }
   ],
   "source": [
    "print(f'Best roc-auc {clf.best_score_}')\n",
    "print(f'Best params {clf.best_params_}')"
   ]
  },
  {
   "cell_type": "code",
   "execution_count": 67,
   "metadata": {},
   "outputs": [
    {
     "data": {
      "text/plain": [
       "LogisticRegression(C=10, class_weight={0: 1, 1: 13}, max_iter=10000)"
      ]
     },
     "execution_count": 67,
     "metadata": {},
     "output_type": "execute_result"
    }
   ],
   "source": [
    "log_class=LogisticRegression(C=10,class_weight=class_weight,max_iter=10000)\n",
    "log_class.fit(X_train,y_train)"
   ]
  },
  {
   "cell_type": "markdown",
   "metadata": {},
   "source": [
    "### Test_Predictions"
   ]
  },
  {
   "cell_type": "code",
   "execution_count": 68,
   "metadata": {},
   "outputs": [
    {
     "data": {
      "text/plain": [
       "0.7341189836149514"
      ]
     },
     "execution_count": 68,
     "metadata": {},
     "output_type": "execute_result"
    }
   ],
   "source": [
    "y_pred=log_class.predict_proba(X_test)[:,1]\n",
    "roc_auc_score(y_test,y_pred)"
   ]
  },
  {
   "cell_type": "markdown",
   "metadata": {},
   "source": [
    "### Train_Predictions"
   ]
  },
  {
   "cell_type": "code",
   "execution_count": 69,
   "metadata": {},
   "outputs": [
    {
     "data": {
      "text/plain": [
       "0.7997764159336527"
      ]
     },
     "execution_count": 69,
     "metadata": {},
     "output_type": "execute_result"
    }
   ],
   "source": [
    "train_pred=log_class.predict_proba(X_train)[:,1]\n",
    "roc_auc_score(y_train,train_pred)"
   ]
  },
  {
   "cell_type": "markdown",
   "metadata": {},
   "source": [
    "### Deciding Right Thresold- using train"
   ]
  },
  {
   "cell_type": "code",
   "execution_count": 70,
   "metadata": {},
   "outputs": [
    {
     "name": "stdout",
     "output_type": "stream",
     "text": [
      "Best Threshold=0.673822, F-Score=0.324\n"
     ]
    }
   ],
   "source": [
    "precision, recall, thresholds = precision_recall_curve(y_train, train_pred)\n",
    "# convert to f score\n",
    "fscore = (2 * precision * recall) / (precision + recall)\n",
    "# locate the index of the largest f score\n",
    "ix = np.argmax(fscore)\n",
    "print('Best Threshold=%f, F-Score=%.3f' % (thresholds[ix], fscore[ix]))"
   ]
  },
  {
   "cell_type": "code",
   "execution_count": 71,
   "metadata": {},
   "outputs": [],
   "source": [
    "Best_Thresold=0.663822"
   ]
  },
  {
   "cell_type": "markdown",
   "metadata": {},
   "source": [
    "### Adding new pred columns "
   ]
  },
  {
   "cell_type": "code",
   "execution_count": 72,
   "metadata": {},
   "outputs": [],
   "source": [
    "new_y_pred=np.where(y_pred>=Best_Thresold,1,0)\n",
    "\n",
    "new_train_pred=np.where(train_pred>=Best_Thresold,1,0)"
   ]
  },
  {
   "cell_type": "markdown",
   "metadata": {},
   "source": [
    "# Test Confusion Matrix-TestResult"
   ]
  },
  {
   "cell_type": "code",
   "execution_count": 73,
   "metadata": {},
   "outputs": [
    {
     "name": "stdout",
     "output_type": "stream",
     "text": [
      "[[2474  316]\n",
      " [ 133   91]]\n",
      "0.8510285335102853\n",
      "              precision    recall  f1-score   support\n",
      "\n",
      "           0       0.95      0.89      0.92      2790\n",
      "           1       0.22      0.41      0.29       224\n",
      "\n",
      "    accuracy                           0.85      3014\n",
      "   macro avg       0.59      0.65      0.60      3014\n",
      "weighted avg       0.90      0.85      0.87      3014\n",
      "\n"
     ]
    }
   ],
   "source": [
    "print(confusion_matrix(y_test,new_y_pred))\n",
    "print(accuracy_score(y_test,new_y_pred))\n",
    "print(classification_report(y_test,new_y_pred))"
   ]
  },
  {
   "cell_type": "markdown",
   "metadata": {},
   "source": [
    "## Train Confusion Matrix"
   ]
  },
  {
   "cell_type": "code",
   "execution_count": 74,
   "metadata": {},
   "outputs": [
    {
     "name": "stdout",
     "output_type": "stream",
     "text": [
      "[[5347  584]\n",
      " [ 245  196]]\n",
      "0.8698995605775267\n",
      "              precision    recall  f1-score   support\n",
      "\n",
      "           0       0.96      0.90      0.93      5931\n",
      "           1       0.25      0.44      0.32       441\n",
      "\n",
      "    accuracy                           0.87      6372\n",
      "   macro avg       0.60      0.67      0.62      6372\n",
      "weighted avg       0.91      0.87      0.89      6372\n",
      "\n"
     ]
    }
   ],
   "source": [
    "print(confusion_matrix(y_train,new_train_pred))\n",
    "print(accuracy_score(y_train,new_train_pred))\n",
    "print(classification_report(y_train,new_train_pred))"
   ]
  },
  {
   "cell_type": "markdown",
   "metadata": {},
   "source": [
    "### 41-46% recall for frauds after optimization"
   ]
  },
  {
   "cell_type": "markdown",
   "metadata": {},
   "source": [
    "`Now after the model is created, just for the purpose of trying different techniques, below this i have worked on basic ensemble learning techniques.`<br>\n",
    "**And did some undersampling and oversampling techniques which could also be used to deal with unbalanced data**"
   ]
  },
  {
   "cell_type": "markdown",
   "metadata": {},
   "source": [
    "### Trying ensemple techniques- \n"
   ]
  },
  {
   "cell_type": "markdown",
   "metadata": {},
   "source": [
    "# Random Forest"
   ]
  },
  {
   "cell_type": "code",
   "execution_count": 76,
   "metadata": {},
   "outputs": [
    {
     "name": "stdout",
     "output_type": "stream",
     "text": [
      "[[2747   43]\n",
      " [ 195   29]]\n",
      "0.9210351692103517\n",
      "              precision    recall  f1-score   support\n",
      "\n",
      "           0       0.93      0.98      0.96      2790\n",
      "           1       0.40      0.13      0.20       224\n",
      "\n",
      "    accuracy                           0.92      3014\n",
      "   macro avg       0.67      0.56      0.58      3014\n",
      "weighted avg       0.89      0.92      0.90      3014\n",
      "\n"
     ]
    }
   ],
   "source": [
    "## Random Forest Base\n",
    "\n",
    "from sklearn.ensemble import RandomForestClassifier\n",
    "classifier=RandomForestClassifier()\n",
    "classifier.fit(X_train,y_train)\n",
    "\n",
    "y_pred=classifier.predict_proba(X_test)[:,1]\n",
    "roc_auc_score(y_test,y_pred)\n",
    "\n",
    "y_pred=classifier.predict(X_test)\n",
    "print(confusion_matrix(y_test,y_pred))\n",
    "print(accuracy_score(y_test,y_pred))\n",
    "print(classification_report(y_test,y_pred))"
   ]
  },
  {
   "cell_type": "markdown",
   "metadata": {},
   "source": [
    "### Optimized"
   ]
  },
  {
   "cell_type": "code",
   "execution_count": 77,
   "metadata": {},
   "outputs": [
    {
     "name": "stdout",
     "output_type": "stream",
     "text": [
      "Fitting 5 folds for each of 112 candidates, totalling 560 fits\n"
     ]
    },
    {
     "name": "stderr",
     "output_type": "stream",
     "text": [
      "/Users/rishabhmalhotra/opt/anaconda3/lib/python3.8/site-packages/sklearn/model_selection/_search.py:922: UserWarning: One or more of the test scores are non-finite: [0.93832142 0.93863539 0.93863539 0.93863539 0.93863539 0.93863539\n",
      " 0.93863539 0.93612547 0.93863539 0.93863539 0.93863539 0.93863539\n",
      " 0.93863539 0.93863539 0.93816468 0.93863539 0.93863539 0.93863539\n",
      " 0.93863539 0.93863539 0.93863539 0.93612362 0.93863539 0.93863539\n",
      " 0.93863539 0.93863539 0.93863539 0.93863539 0.93690966 0.93863539\n",
      " 0.93863539 0.93863539 0.93863539 0.93863539 0.93863539 0.93832154\n",
      " 0.93863539 0.93863539 0.93863539 0.93863539 0.93863539 0.93863539\n",
      " 0.93816444 0.93863539 0.93863539 0.93863539 0.93863539 0.93863539\n",
      " 0.93863539 0.93863539 0.93863539 0.93863539 0.93863539 0.93863539\n",
      " 0.93863539 0.93863539        nan        nan        nan        nan\n",
      "        nan        nan        nan        nan        nan        nan\n",
      "        nan        nan        nan        nan        nan        nan\n",
      "        nan        nan        nan        nan        nan        nan\n",
      "        nan        nan        nan        nan        nan        nan\n",
      "        nan        nan        nan        nan        nan        nan\n",
      "        nan        nan        nan        nan        nan        nan\n",
      "        nan        nan        nan        nan        nan        nan\n",
      "        nan        nan        nan        nan        nan        nan\n",
      "        nan        nan        nan        nan]\n",
      "  warnings.warn(\n"
     ]
    },
    {
     "data": {
      "text/plain": [
       "GridSearchCV(cv=KFold(n_splits=5, random_state=None, shuffle=False),\n",
       "             estimator=RandomForestClassifier(max_features='sqrt',\n",
       "                                              n_estimators=50, n_jobs=-1,\n",
       "                                              oob_score=True),\n",
       "             n_jobs=4,\n",
       "             param_grid={'bootstrap': [True, False], 'max_depth': [3],\n",
       "                         'max_features': ['auto', 'sqrt'],\n",
       "                         'min_samples_leaf': [1, 3],\n",
       "                         'min_samples_split': [2, 5],\n",
       "                         'n_estimators': [10, 125, 240, 355, 470, 585, 700]},\n",
       "             verbose=2)"
      ]
     },
     "execution_count": 77,
     "metadata": {},
     "output_type": "execute_result"
    }
   ],
   "source": [
    "rfc = RandomForestClassifier(n_jobs=-1,max_features= 'sqrt' ,n_estimators=50, oob_score = True) \n",
    "\n",
    "param_grid = { \n",
    "    'n_estimators': [int(x) for x in np.linspace(start= 10,stop=700, num=7)],\n",
    "    'max_features': ['auto', 'sqrt'],\n",
    "    'max_depth':[3],\n",
    "    'min_samples_split':[2,5],\n",
    "    'min_samples_leaf':[1,3],\n",
    "    'bootstrap':[True,False]\n",
    "}\n",
    "cv=KFold(n_splits=5,random_state=None,shuffle=False)\n",
    "CV_rfc = GridSearchCV(estimator=rfc, param_grid=param_grid, cv=cv,n_jobs=4, verbose=2)\n",
    "CV_rfc.fit(X_train, y_train)"
   ]
  },
  {
   "cell_type": "code",
   "execution_count": 78,
   "metadata": {},
   "outputs": [
    {
     "name": "stdout",
     "output_type": "stream",
     "text": [
      "Best roc-auc 0.9386353926185859\n",
      "Best params {'bootstrap': True, 'max_depth': 3, 'max_features': 'auto', 'min_samples_leaf': 1, 'min_samples_split': 2, 'n_estimators': 125}\n"
     ]
    }
   ],
   "source": [
    "print(f'Best roc-auc {CV_rfc.best_score_}')\n",
    "print(f'Best params {CV_rfc.best_params_}')"
   ]
  },
  {
   "cell_type": "code",
   "execution_count": 79,
   "metadata": {},
   "outputs": [
    {
     "data": {
      "text/plain": [
       "{0: 1, 1: 13}"
      ]
     },
     "execution_count": 79,
     "metadata": {},
     "output_type": "execute_result"
    }
   ],
   "source": [
    "class_weight"
   ]
  },
  {
   "cell_type": "code",
   "execution_count": 80,
   "metadata": {},
   "outputs": [
    {
     "data": {
      "text/plain": [
       "RandomForestClassifier(class_weight={0: 1, 1: 13}, max_depth=5,\n",
       "                       min_samples_leaf=3, n_estimators=240, oob_score=True)"
      ]
     },
     "execution_count": 80,
     "metadata": {},
     "output_type": "execute_result"
    }
   ],
   "source": [
    "rfc = RandomForestClassifier(max_depth= 5,oob_score=True,class_weight=class_weight ,max_features= 'auto', n_estimators= 240,bootstrap=True,min_samples_leaf= 3,min_samples_split=2) \n",
    "rfc.fit(X_train,y_train)"
   ]
  },
  {
   "cell_type": "code",
   "execution_count": 81,
   "metadata": {},
   "outputs": [
    {
     "data": {
      "text/plain": [
       "0.731510016641065"
      ]
     },
     "execution_count": 81,
     "metadata": {},
     "output_type": "execute_result"
    }
   ],
   "source": [
    "### Test_Predictions\n",
    "\n",
    "y_pred=rfc.predict_proba(X_test)[:,1]\n",
    "roc_auc_score(y_test,y_pred)"
   ]
  },
  {
   "cell_type": "code",
   "execution_count": 82,
   "metadata": {},
   "outputs": [
    {
     "data": {
      "text/plain": [
       "0.814529599846458"
      ]
     },
     "execution_count": 82,
     "metadata": {},
     "output_type": "execute_result"
    }
   ],
   "source": [
    "\n",
    "\n",
    "### Train_Predictions\n",
    "\n",
    "train_pred=rfc.predict_proba(X_train)[:,1]\n",
    "roc_auc_score(y_train,train_pred)"
   ]
  },
  {
   "cell_type": "code",
   "execution_count": 83,
   "metadata": {},
   "outputs": [
    {
     "name": "stdout",
     "output_type": "stream",
     "text": [
      "Best Threshold=0.582822, F-Score=0.352\n"
     ]
    }
   ],
   "source": [
    "\n",
    "### Deciding Right Thresold- using train\n",
    "\n",
    "precision, recall, thresholds = precision_recall_curve(y_train, train_pred)\n",
    "# convert to f score\n",
    "fscore = (2 * precision * recall) / (precision + recall)\n",
    "# locate the index of the largest f score\n",
    "ix = np.argmax(fscore)\n",
    "print('Best Threshold=%f, F-Score=%.3f' % (thresholds[ix], fscore[ix]))"
   ]
  },
  {
   "cell_type": "code",
   "execution_count": 84,
   "metadata": {},
   "outputs": [],
   "source": [
    "\n",
    "\n",
    "Best_Thresold=0.592813\n",
    "\n",
    "### Adding new pred columns \n",
    "\n",
    "new_y_pred=np.where(y_pred>=Best_Thresold,1,0)\n",
    "\n",
    "new_train_pred=np.where(train_pred>=Best_Thresold,1,0)"
   ]
  },
  {
   "cell_type": "code",
   "execution_count": 85,
   "metadata": {},
   "outputs": [
    {
     "name": "stdout",
     "output_type": "stream",
     "text": [
      "[[2648  142]\n",
      " [ 167   57]]\n",
      "0.8974784339747843\n",
      "              precision    recall  f1-score   support\n",
      "\n",
      "           0       0.94      0.95      0.94      2790\n",
      "           1       0.29      0.25      0.27       224\n",
      "\n",
      "    accuracy                           0.90      3014\n",
      "   macro avg       0.61      0.60      0.61      3014\n",
      "weighted avg       0.89      0.90      0.89      3014\n",
      "\n"
     ]
    }
   ],
   "source": [
    "\n",
    "\n",
    "\n",
    "## Test Confusion Matrix\n",
    "\n",
    "print(confusion_matrix(y_test,new_y_pred))\n",
    "print(accuracy_score(y_test,new_y_pred))\n",
    "print(classification_report(y_test,new_y_pred))"
   ]
  },
  {
   "cell_type": "code",
   "execution_count": 86,
   "metadata": {},
   "outputs": [
    {
     "name": "stdout",
     "output_type": "stream",
     "text": [
      "[[5664  267]\n",
      " [ 295  146]]\n",
      "0.9118016321406152\n",
      "              precision    recall  f1-score   support\n",
      "\n",
      "           0       0.95      0.95      0.95      5931\n",
      "           1       0.35      0.33      0.34       441\n",
      "\n",
      "    accuracy                           0.91      6372\n",
      "   macro avg       0.65      0.64      0.65      6372\n",
      "weighted avg       0.91      0.91      0.91      6372\n",
      "\n"
     ]
    }
   ],
   "source": [
    "## Train Confusion Matrix\n",
    "\n",
    "print(confusion_matrix(y_train,new_train_pred))\n",
    "print(accuracy_score(y_train,new_train_pred))\n",
    "print(classification_report(y_train,new_train_pred))"
   ]
  },
  {
   "cell_type": "markdown",
   "metadata": {},
   "source": [
    "## XGBoost"
   ]
  },
  {
   "cell_type": "code",
   "execution_count": 87,
   "metadata": {},
   "outputs": [
    {
     "data": {
      "text/plain": [
       "GradientBoostingClassifier()"
      ]
     },
     "execution_count": 87,
     "metadata": {},
     "output_type": "execute_result"
    }
   ],
   "source": [
    "from sklearn.ensemble import GradientBoostingClassifier\n",
    "classifier=GradientBoostingClassifier()\n",
    "classifier.fit(X_train,y_train)"
   ]
  },
  {
   "cell_type": "code",
   "execution_count": 88,
   "metadata": {},
   "outputs": [
    {
     "name": "stdout",
     "output_type": "stream",
     "text": [
      "[[2733   57]\n",
      " [ 186   38]]\n",
      "0.9193762441937624\n",
      "              precision    recall  f1-score   support\n",
      "\n",
      "           0       0.94      0.98      0.96      2790\n",
      "           1       0.40      0.17      0.24       224\n",
      "\n",
      "    accuracy                           0.92      3014\n",
      "   macro avg       0.67      0.57      0.60      3014\n",
      "weighted avg       0.90      0.92      0.90      3014\n",
      "\n"
     ]
    }
   ],
   "source": [
    "y_pred=classifier.predict(X_test)\n",
    "print(confusion_matrix(y_test,y_pred))\n",
    "print(accuracy_score(y_test,y_pred))\n",
    "print(classification_report(y_test,y_pred))"
   ]
  },
  {
   "cell_type": "markdown",
   "metadata": {},
   "source": [
    "# Other Techniques that can be used on undersampled and oversampled data"
   ]
  },
  {
   "cell_type": "markdown",
   "metadata": {},
   "source": [
    "## Undersampling"
   ]
  },
  {
   "cell_type": "code",
   "execution_count": 89,
   "metadata": {},
   "outputs": [
    {
     "name": "stdout",
     "output_type": "stream",
     "text": [
      "The number of classes before fit Counter({0: 5931, 1: 441})\n",
      "The number of classes after fit Counter({0: 551, 1: 441})\n"
     ]
    },
    {
     "name": "stderr",
     "output_type": "stream",
     "text": [
      "/Users/rishabhmalhotra/opt/anaconda3/lib/python3.8/site-packages/imblearn/utils/_validation.py:587: FutureWarning: Pass sampling_strategy=0.8 as keyword args. From version 0.9 passing these as positional arguments will result in an error\n",
      "  warnings.warn(\n"
     ]
    }
   ],
   "source": [
    "from collections import Counter\n",
    "Counter(y_train)\n",
    "\n",
    "from collections import Counter\n",
    "from imblearn.under_sampling import NearMiss\n",
    "ns=NearMiss(0.8)\n",
    "X_train_ns,y_train_ns=ns.fit_resample(X_train,y_train)\n",
    "print(\"The number of classes before fit {}\".format(Counter(y_train)))\n",
    "print(\"The number of classes after fit {}\".format(Counter(y_train_ns)))\n",
    "\n"
   ]
  },
  {
   "cell_type": "code",
   "execution_count": 90,
   "metadata": {},
   "outputs": [
    {
     "name": "stdout",
     "output_type": "stream",
     "text": [
      "[[2751   39]\n",
      " [ 189   35]]\n",
      "0.9243530192435302\n",
      "              precision    recall  f1-score   support\n",
      "\n",
      "           0       0.94      0.99      0.96      2790\n",
      "           1       0.47      0.16      0.23       224\n",
      "\n",
      "    accuracy                           0.92      3014\n",
      "   macro avg       0.70      0.57      0.60      3014\n",
      "weighted avg       0.90      0.92      0.91      3014\n",
      "\n"
     ]
    }
   ],
   "source": [
    "from sklearn.ensemble import GradientBoostingClassifier\n",
    "classifier=GradientBoostingClassifier()\n",
    "classifier.fit(X_train,y_train)\n",
    "\n",
    "y_pred=classifier.predict(X_test)\n",
    "print(confusion_matrix(y_test,y_pred))\n",
    "print(accuracy_score(y_test,y_pred))\n",
    "print(classification_report(y_test,y_pred))"
   ]
  },
  {
   "cell_type": "markdown",
   "metadata": {},
   "source": [
    "## Oversampling"
   ]
  },
  {
   "cell_type": "code",
   "execution_count": 91,
   "metadata": {},
   "outputs": [],
   "source": [
    "import os"
   ]
  },
  {
   "cell_type": "code",
   "execution_count": 92,
   "metadata": {},
   "outputs": [
    {
     "name": "stdout",
     "output_type": "stream",
     "text": [
      "The number of classes before fit Counter({0: 5931, 1: 441})\n",
      "The number of classes after fit Counter({0: 5931, 1: 4448})\n"
     ]
    },
    {
     "name": "stderr",
     "output_type": "stream",
     "text": [
      "/Users/rishabhmalhotra/opt/anaconda3/lib/python3.8/site-packages/imblearn/utils/_validation.py:587: FutureWarning: Pass sampling_strategy=0.75 as keyword args. From version 0.9 passing these as positional arguments will result in an error\n",
      "  warnings.warn(\n"
     ]
    }
   ],
   "source": [
    "from imblearn.over_sampling import RandomOverSampler\n",
    "\n",
    "os=RandomOverSampler(0.75)\n",
    "X_train_ns,y_train_ns=os.fit_resample(X_train,y_train)\n",
    "print(\"The number of classes before fit {}\".format(Counter(y_train)))\n",
    "print(\"The number of classes after fit {}\".format(Counter(y_train_ns)))\n",
    "\n"
   ]
  },
  {
   "cell_type": "code",
   "execution_count": 93,
   "metadata": {},
   "outputs": [
    {
     "name": "stdout",
     "output_type": "stream",
     "text": [
      "          pred:yes  pred:no\n",
      "true:yes      2738       52\n",
      "true:no        186       38\n",
      "0.9210351692103517\n",
      "              precision    recall  f1-score   support\n",
      "\n",
      "           0       0.94      0.98      0.96      2790\n",
      "           1       0.42      0.17      0.24       224\n",
      "\n",
      "    accuracy                           0.92      3014\n",
      "   macro avg       0.68      0.58      0.60      3014\n",
      "weighted avg       0.90      0.92      0.91      3014\n",
      "\n"
     ]
    }
   ],
   "source": [
    "from sklearn.ensemble import GradientBoostingClassifier\n",
    "classifier=GradientBoostingClassifier()\n",
    "classifier.fit(X_train,y_train)\n",
    "\n",
    "y_pred=classifier.predict(X_test)\n",
    "\n",
    "print(pd.DataFrame(\n",
    "    confusion_matrix(y_test, y_pred, labels=[0,1]), \n",
    "    index=['true:yes', 'true:no'], \n",
    "    columns=['pred:yes', 'pred:no']))\n",
    "print(accuracy_score(y_test,y_pred))\n",
    "print(classification_report(y_test,y_pred))"
   ]
  },
  {
   "cell_type": "markdown",
   "metadata": {},
   "source": [
    "## SMOTETOMEK- Combined oversampling & undersampling"
   ]
  },
  {
   "cell_type": "markdown",
   "metadata": {},
   "source": [
    "##### SMOTE is oversampling, TOMEK is undersampling"
   ]
  },
  {
   "cell_type": "code",
   "execution_count": 94,
   "metadata": {},
   "outputs": [
    {
     "name": "stderr",
     "output_type": "stream",
     "text": [
      "/Users/rishabhmalhotra/opt/anaconda3/lib/python3.8/site-packages/imblearn/utils/_validation.py:587: FutureWarning: Pass sampling_strategy=0.5 as keyword args. From version 0.9 passing these as positional arguments will result in an error\n",
      "  warnings.warn(\n"
     ]
    },
    {
     "name": "stdout",
     "output_type": "stream",
     "text": [
      "The number of classes before fit Counter({0: 5931, 1: 441})\n",
      "The number of classes after fit Counter({0: 5740, 1: 2774})\n"
     ]
    }
   ],
   "source": [
    "from imblearn.combine import SMOTETomek\n",
    "\n",
    "os=SMOTETomek(0.5)\n",
    "X_train_ns,y_train_ns=os.fit_resample(X_train,y_train)\n",
    "print(\"The number of classes before fit {}\".format(Counter(y_train)))\n",
    "print(\"The number of classes after fit {}\".format(Counter(y_train_ns)))"
   ]
  },
  {
   "cell_type": "code",
   "execution_count": 95,
   "metadata": {},
   "outputs": [
    {
     "name": "stdout",
     "output_type": "stream",
     "text": [
      "          pred:yes  pred:no\n",
      "true:yes      1846      944\n",
      "true:no        109      115\n",
      "0.6506303915063039\n",
      "              precision    recall  f1-score   support\n",
      "\n",
      "           0       0.94      0.66      0.78      2790\n",
      "           1       0.11      0.51      0.18       224\n",
      "\n",
      "    accuracy                           0.65      3014\n",
      "   macro avg       0.53      0.59      0.48      3014\n",
      "weighted avg       0.88      0.65      0.73      3014\n",
      "\n"
     ]
    }
   ],
   "source": [
    "from sklearn.ensemble import RandomForestClassifier\n",
    "classifier=RandomForestClassifier()\n",
    "classifier.fit(X_train_ns,y_train_ns)\n",
    "\n",
    "y_pred=classifier.predict(X_test)\n",
    "print(pd.DataFrame(\n",
    "    confusion_matrix(y_test, y_pred, labels=[0,1]), \n",
    "    index=['true:yes', 'true:no'], \n",
    "    columns=['pred:yes', 'pred:no']))\n",
    "print(accuracy_score(y_test,y_pred))\n",
    "print(classification_report(y_test,y_pred))"
   ]
  },
  {
   "cell_type": "markdown",
   "metadata": {},
   "source": [
    "# Thankyou."
   ]
  }
 ],
 "metadata": {
  "kernelspec": {
   "display_name": "Python 3",
   "language": "python",
   "name": "python3"
  },
  "language_info": {
   "codemirror_mode": {
    "name": "ipython",
    "version": 3
   },
   "file_extension": ".py",
   "mimetype": "text/x-python",
   "name": "python",
   "nbconvert_exporter": "python",
   "pygments_lexer": "ipython3",
   "version": "3.8.5"
  }
 },
 "nbformat": 4,
 "nbformat_minor": 4
}
